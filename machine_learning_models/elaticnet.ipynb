{
 "cells": [
  {
   "cell_type": "markdown",
   "id": "99f313a4",
   "metadata": {},
   "source": [
    "# ElasticNet"
   ]
  },
  {
   "cell_type": "markdown",
   "id": "5b4f5ed0",
   "metadata": {},
   "source": [
    "### 1. Introdução ao ElasticNet"
   ]
  },
  {
   "cell_type": "markdown",
   "id": "bd0e1967",
   "metadata": {},
   "source": [
    "#### 1.1 Teoria"
   ]
  },
  {
   "cell_type": "markdown",
   "id": "7211cd66",
   "metadata": {},
   "source": [
    "Em Machine Learning, a regressão linear é um dos modelos mais simples de previsão de dados. Porém, ela pode sofrer com o Underfit e Overfit. O que acontece é que a regressão linear faz previsões calculando um polinômio para tentar representar o resultado, porém, para representar com grande acurácia os dados de treino, é necessário um polinômio de grau alto, que pode gerar resultados melhores para os dados de treino, mas piores para os demais, ou seja overfit (super ajustado). Veja na imagem abaixo:\n",
    "<div align=\"center\">\n",
    "    <img src=\"https://analystprep.com/study-notes/wp-content/uploads/2021/03/Img_13.jpg\" alt=\"Fern vs Ehre\" width=\"800\">\n",
    "</div>"
   ]
  },
  {
   "cell_type": "markdown",
   "id": "4887155a",
   "metadata": {},
   "source": [
    "Pensando nisso, foram desenvolvidos modelos de regularização do grau desses polinômios para evitar o Overfit, como é o caso do L1 (LASSO) e L2 (Ridge). Ambos os métodos tentam diminuir o efeito de Overfitting da regressão. Primeiramento relembremos o cálculo do MSE:\n",
    "\n",
    "$$\n",
    "MSE = \\frac{1}{n}\\sum_{i=1}^{n}(y_i - \\hat{y}_i)^2\n",
    "$$"
   ]
  },
  {
   "cell_type": "markdown",
   "id": "25710a25",
   "metadata": {},
   "source": [
    "Suponha que o valor a ser predito seja um polinômio tal que:\n",
    "$$\\hat{y} = \\theta_0 + \\theta_1 x_1 + \\theta_2 x_2^2 + \\theta_3 x_3^3 + \\theta_4 x_4^4...$$"
   ]
  },
  {
   "cell_type": "markdown",
   "id": "02dfccb0",
   "metadata": {},
   "source": [
    "Substituindo:\n",
    "$$\n",
    "MSE = \\frac{1}{n}\\sum_{i=1}^{n}(y_i - (\\theta_0 + \\theta_1 x_1 + \\theta_2 x_2^2 + \\theta_3 x_3^3 + \\theta_4 x_4^4...))^2\n",
    "$$"
   ]
  },
  {
   "cell_type": "markdown",
   "id": "f23ea972",
   "metadata": {},
   "source": [
    "Chamemos o polinômio de f, para simplificar\n",
    "$$\n",
    "MSE = \\frac{1}{n}\\sum_{i=1}^{n}(y_i - f(x_i))^2\n",
    "$$"
   ]
  },
  {
   "cell_type": "markdown",
   "id": "46bee2de",
   "metadata": {},
   "source": [
    "Para diminuir o grau do polinômio, a regularização acrescenta um demérito para graus maiores. Veja como é feito em L2:\n",
    "$$\n",
    "MSE = \\frac{1}{n}\\sum_{i=1}^{n}(y_i - f(x_i))^2 + \\alpha\\sum_{i=1}^{n}(\\theta_i)^2\n",
    "$$\n",
    "Ou seja, quanto maior n, maior o somatório dos quadrados de theta, sendo vantajoso um modelo que tenha menor grau e boa precisão. Alpha é uma constante que pode ser escolhida para ditar o peso do demérito."
   ]
  },
  {
   "cell_type": "markdown",
   "id": "fd75ba7a",
   "metadata": {},
   "source": [
    "Agora, vejamos como é feito em L1:\n",
    "$$\n",
    "MSE = \\frac{1}{n}\\sum_{i=1}^{n}(y_i - f(x_i))^2 + \\alpha\\sum_{i=1}^{n}|\\theta_i|\n",
    "$$\n",
    "Ele também adiciona um demérito para o aumento de grau, mas agora usando o módulo de theta com a constante alpha."
   ]
  },
  {
   "cell_type": "markdown",
   "id": "a56cb198",
   "metadata": {},
   "source": [
    "Porém, podemos usar L1 e L2 juntos e isso é o Elastic Net:\n",
    "$$\n",
    "MSE = \\frac{1}{2n}\\sum_{i=1}^{n}(y_i - f(x_i))^2 + \\alpha(l_1ratio)\\sum_{i=1}^{n}|\\theta_i| + 0.5\\alpha(1-l_1ratio)\\sum_{i=1}^{n}(\\theta_i)^2\n",
    "$$"
   ]
  },
  {
   "cell_type": "markdown",
   "id": "e68a60ab",
   "metadata": {},
   "source": [
    "#### 1.2 ElasticNet no sklearn"
   ]
  },
  {
   "cell_type": "markdown",
   "id": "4eb24065",
   "metadata": {},
   "source": [
    "No sklearn, ElasticNet está em linear_model. Ele pode receber como parâmetros:\n",
    "\n",
    "→ alpha - controla o peso da regularização. std=1\n",
    "\n",
    "→ l1_ratio - controla a proporção entre L1 e L2. std=0.5\n",
    "\n",
    "→ max_iter - número máximo de iterações do algoritmo de otimização para encontrar a melhor solução. std=1000\n",
    "\n",
    "→ tol - tolerância da melhoria para até onde o modelo tenta otimizar. std=1e-4\n",
    "\n",
    "→ selection - cyclic, atualiza as features sequencialmente, random, atualiza em qualquer ordem. std=cyclic\n",
    "\n",
    "→ fit_intercept - adiciona uma constante ao polinômio. std=true\n",
    "\n",
    "→ positive - faz todos os thetas serem positivos. std=False"
   ]
  },
  {
   "cell_type": "markdown",
   "id": "807ced4f",
   "metadata": {},
   "source": [
    "### 2. Treino de Modelo"
   ]
  },
  {
   "cell_type": "markdown",
   "id": "51c1a64b",
   "metadata": {},
   "source": [
    "Primeiro importamos as bibliotecas e o dataframe"
   ]
  },
  {
   "cell_type": "code",
   "execution_count": 34,
   "id": "a5fef948",
   "metadata": {},
   "outputs": [],
   "source": [
    "from sklearn.linear_model import ElasticNet\n",
    "from sklearn.ensemble import RandomForestRegressor\n",
    "from sklearn.datasets import make_regression\n",
    "import pandas as pd\n",
    "from sklearn.model_selection import train_test_split, KFold, cross_val_score\n",
    "from sklearn.pipeline import make_pipeline\n",
    "from sklearn.preprocessing import StandardScaler\n",
    "from sklearn.metrics import root_mean_squared_error\n",
    "from sklearn.feature_selection import RFE\n",
    "from sklearn.feature_selection import VarianceThreshold\n",
    "from sklearn.decomposition import PCA\n",
    "from optuna import create_study\n",
    "from optuna.pruners import HyperbandPruner\n",
    "import matplotlib.pyplot as plt"
   ]
  },
  {
   "cell_type": "code",
   "execution_count": 35,
   "id": "7aba30be",
   "metadata": {},
   "outputs": [
    {
     "data": {
      "text/html": [
       "<div>\n",
       "<style scoped>\n",
       "    .dataframe tbody tr th:only-of-type {\n",
       "        vertical-align: middle;\n",
       "    }\n",
       "\n",
       "    .dataframe tbody tr th {\n",
       "        vertical-align: top;\n",
       "    }\n",
       "\n",
       "    .dataframe thead th {\n",
       "        text-align: right;\n",
       "    }\n",
       "</style>\n",
       "<table border=\"1\" class=\"dataframe\">\n",
       "  <thead>\n",
       "    <tr style=\"text-align: right;\">\n",
       "      <th></th>\n",
       "      <th>Dipole</th>\n",
       "      <th>E_HOMO</th>\n",
       "      <th>E_LUMO</th>\n",
       "      <th>gap_HOMO-LUMO</th>\n",
       "      <th>ZPE</th>\n",
       "      <th>H</th>\n",
       "      <th>U</th>\n",
       "      <th>U0</th>\n",
       "      <th>G</th>\n",
       "      <th>Delta</th>\n",
       "    </tr>\n",
       "  </thead>\n",
       "  <tbody>\n",
       "    <tr>\n",
       "      <th>0</th>\n",
       "      <td>0.727</td>\n",
       "      <td>-10.6203</td>\n",
       "      <td>-2.7950</td>\n",
       "      <td>-7.8253</td>\n",
       "      <td>0.154214</td>\n",
       "      <td>-27.917739</td>\n",
       "      <td>-27.918683</td>\n",
       "      <td>-28.080950</td>\n",
       "      <td>-27.959630</td>\n",
       "      <td>-12.397982</td>\n",
       "    </tr>\n",
       "    <tr>\n",
       "      <th>1</th>\n",
       "      <td>1.905</td>\n",
       "      <td>-10.4336</td>\n",
       "      <td>-2.2949</td>\n",
       "      <td>-8.1387</td>\n",
       "      <td>0.199866</td>\n",
       "      <td>-28.104404</td>\n",
       "      <td>-28.105348</td>\n",
       "      <td>-28.313524</td>\n",
       "      <td>-28.146070</td>\n",
       "      <td>-12.165407</td>\n",
       "    </tr>\n",
       "    <tr>\n",
       "      <th>2</th>\n",
       "      <td>4.475</td>\n",
       "      <td>-10.5746</td>\n",
       "      <td>-6.9494</td>\n",
       "      <td>-3.6252</td>\n",
       "      <td>0.120064</td>\n",
       "      <td>-27.272560</td>\n",
       "      <td>-27.273504</td>\n",
       "      <td>-27.400818</td>\n",
       "      <td>-27.312535</td>\n",
       "      <td>-13.078113</td>\n",
       "    </tr>\n",
       "    <tr>\n",
       "      <th>3</th>\n",
       "      <td>2.100</td>\n",
       "      <td>-9.8173</td>\n",
       "      <td>-5.5314</td>\n",
       "      <td>-4.2859</td>\n",
       "      <td>0.177677</td>\n",
       "      <td>-27.068399</td>\n",
       "      <td>-27.069343</td>\n",
       "      <td>-27.254803</td>\n",
       "      <td>-27.108720</td>\n",
       "      <td>-13.224129</td>\n",
       "    </tr>\n",
       "    <tr>\n",
       "      <th>4</th>\n",
       "      <td>0.872</td>\n",
       "      <td>-9.9722</td>\n",
       "      <td>-6.6172</td>\n",
       "      <td>-3.3550</td>\n",
       "      <td>0.133244</td>\n",
       "      <td>-24.148876</td>\n",
       "      <td>-24.149821</td>\n",
       "      <td>-24.292155</td>\n",
       "      <td>-24.192788</td>\n",
       "      <td>-16.186776</td>\n",
       "    </tr>\n",
       "    <tr>\n",
       "      <th>...</th>\n",
       "      <td>...</td>\n",
       "      <td>...</td>\n",
       "      <td>...</td>\n",
       "      <td>...</td>\n",
       "      <td>...</td>\n",
       "      <td>...</td>\n",
       "      <td>...</td>\n",
       "      <td>...</td>\n",
       "      <td>...</td>\n",
       "      <td>...</td>\n",
       "    </tr>\n",
       "    <tr>\n",
       "      <th>129152</th>\n",
       "      <td>4.710</td>\n",
       "      <td>-11.3840</td>\n",
       "      <td>-7.8335</td>\n",
       "      <td>-3.5505</td>\n",
       "      <td>0.121817</td>\n",
       "      <td>-26.808903</td>\n",
       "      <td>-26.809847</td>\n",
       "      <td>-26.939965</td>\n",
       "      <td>-26.851229</td>\n",
       "      <td>-13.538966</td>\n",
       "    </tr>\n",
       "    <tr>\n",
       "      <th>129153</th>\n",
       "      <td>4.996</td>\n",
       "      <td>-10.8793</td>\n",
       "      <td>-7.1097</td>\n",
       "      <td>-3.7696</td>\n",
       "      <td>0.141742</td>\n",
       "      <td>-28.278349</td>\n",
       "      <td>-28.279293</td>\n",
       "      <td>-28.428099</td>\n",
       "      <td>-28.317523</td>\n",
       "      <td>-12.050832</td>\n",
       "    </tr>\n",
       "    <tr>\n",
       "      <th>129154</th>\n",
       "      <td>3.973</td>\n",
       "      <td>-10.9497</td>\n",
       "      <td>-7.7346</td>\n",
       "      <td>-3.2151</td>\n",
       "      <td>0.124894</td>\n",
       "      <td>-24.819326</td>\n",
       "      <td>-24.820270</td>\n",
       "      <td>-24.952019</td>\n",
       "      <td>-24.858199</td>\n",
       "      <td>-15.526912</td>\n",
       "    </tr>\n",
       "    <tr>\n",
       "      <th>129155</th>\n",
       "      <td>0.918</td>\n",
       "      <td>-10.2869</td>\n",
       "      <td>-1.8611</td>\n",
       "      <td>-8.4258</td>\n",
       "      <td>0.195977</td>\n",
       "      <td>-30.002576</td>\n",
       "      <td>-30.003520</td>\n",
       "      <td>-30.208931</td>\n",
       "      <td>-30.047056</td>\n",
       "      <td>-10.270000</td>\n",
       "    </tr>\n",
       "    <tr>\n",
       "      <th>129156</th>\n",
       "      <td>0.330</td>\n",
       "      <td>-10.7007</td>\n",
       "      <td>-8.4832</td>\n",
       "      <td>-2.2175</td>\n",
       "      <td>0.073584</td>\n",
       "      <td>-24.919339</td>\n",
       "      <td>-24.920283</td>\n",
       "      <td>-25.000626</td>\n",
       "      <td>-24.958159</td>\n",
       "      <td>-15.478305</td>\n",
       "    </tr>\n",
       "  </tbody>\n",
       "</table>\n",
       "<p>129157 rows × 10 columns</p>\n",
       "</div>"
      ],
      "text/plain": [
       "        Dipole   E_HOMO  E_LUMO  gap_HOMO-LUMO       ZPE          H  \\\n",
       "0        0.727 -10.6203 -2.7950        -7.8253  0.154214 -27.917739   \n",
       "1        1.905 -10.4336 -2.2949        -8.1387  0.199866 -28.104404   \n",
       "2        4.475 -10.5746 -6.9494        -3.6252  0.120064 -27.272560   \n",
       "3        2.100  -9.8173 -5.5314        -4.2859  0.177677 -27.068399   \n",
       "4        0.872  -9.9722 -6.6172        -3.3550  0.133244 -24.148876   \n",
       "...        ...      ...     ...            ...       ...        ...   \n",
       "129152   4.710 -11.3840 -7.8335        -3.5505  0.121817 -26.808903   \n",
       "129153   4.996 -10.8793 -7.1097        -3.7696  0.141742 -28.278349   \n",
       "129154   3.973 -10.9497 -7.7346        -3.2151  0.124894 -24.819326   \n",
       "129155   0.918 -10.2869 -1.8611        -8.4258  0.195977 -30.002576   \n",
       "129156   0.330 -10.7007 -8.4832        -2.2175  0.073584 -24.919339   \n",
       "\n",
       "                U         U0          G      Delta  \n",
       "0      -27.918683 -28.080950 -27.959630 -12.397982  \n",
       "1      -28.105348 -28.313524 -28.146070 -12.165407  \n",
       "2      -27.273504 -27.400818 -27.312535 -13.078113  \n",
       "3      -27.069343 -27.254803 -27.108720 -13.224129  \n",
       "4      -24.149821 -24.292155 -24.192788 -16.186776  \n",
       "...           ...        ...        ...        ...  \n",
       "129152 -26.809847 -26.939965 -26.851229 -13.538966  \n",
       "129153 -28.279293 -28.428099 -28.317523 -12.050832  \n",
       "129154 -24.820270 -24.952019 -24.858199 -15.526912  \n",
       "129155 -30.003520 -30.208931 -30.047056 -10.270000  \n",
       "129156 -24.920283 -25.000626 -24.958159 -15.478305  \n",
       "\n",
       "[129157 rows x 10 columns]"
      ]
     },
     "execution_count": 35,
     "metadata": {},
     "output_type": "execute_result"
    }
   ],
   "source": [
    "df = pd.read_csv('../dataset_processing/xtb_dataset.csv')\n",
    "df"
   ]
  },
  {
   "cell_type": "code",
   "execution_count": null,
   "id": "7d326b0a",
   "metadata": {},
   "outputs": [],
   "source": [
    "X = df.drop(\"Delta\", axis=1)\n",
    "y = df[\"Delta\"]\n",
    "X_train, X_test, y_train, y_test = train_test_split(X, y, test_size=0.7, random_state=27)"
   ]
  },
  {
   "cell_type": "markdown",
   "id": "ea7a8198",
   "metadata": {},
   "source": [
    "Agora, instanciamos o modelo com todos seus parâmetros e tratamentos a serem usados pelo optuna."
   ]
  },
  {
   "cell_type": "code",
   "execution_count": null,
   "id": "b19e36b5",
   "metadata": {},
   "outputs": [],
   "source": [
    "def inst_elasticnet(trial):\n",
    "    parametros = {\n",
    "        'alpha': trial.suggest_float('alpha', 1e-5, 1e3, log=True),\n",
    "        'l1_ratio': trial.suggest_float('l1_ratio', 0, 1),\n",
    "        'fit_intercept': trial.suggest_categorical(\"fit_intercept\", [True, False]),\n",
    "        'positive': trial.suggest_categorical(\"positive\", [False, True]),\n",
    "        'max_iter': trial.suggest_int('max_iter', 1000, 40000),\n",
    "        'tol': trial.suggest_float('tol', 1e-8, 1e-3, log=True),\n",
    "        'selection': trial.suggest_categorical('selection', ['cyclic', 'random'])\n",
    "    }\n",
    "\n",
    "    normalizar = trial.suggest_categorical('normalizar', [None, 'stds' 'pca', 'limiar', 'rfe'])\n",
    "    if normalizar == 'stds':\n",
    "        modelo = make_pipeline(StandardScaler(), ElasticNet(**parametros))\n",
    "    elif normalizar == \"pca\":\n",
    "        # Definindo o número de componentes a serem mantidas\n",
    "        components = trial.suggest_int(\"pca_components\", 2, 50)\n",
    "        modelo = make_pipeline(\n",
    "            StandardScaler(),\n",
    "            PCA(components),\n",
    "            ElasticNet(**parametros))\n",
    "    elif normalizar == \"limiar\":\n",
    "        # Definindo o Limiar a ser utilizado\n",
    "        threshold = trial.suggest_float(\"variance_threshold\", 0, 0.1)\n",
    "        modelo = make_pipeline(\n",
    "            StandardScaler(),\n",
    "            VarianceThreshold(threshold),\n",
    "            ElasticNet(**parametros)\n",
    "        )\n",
    "    elif normalizar == \"rfe\": \n",
    "        # Criando o modelo para parametro do RFE\n",
    "        estimator = RandomForestRegressor()\n",
    "        # Definindo o número de atributos a serem mantidos\n",
    "        n_features_to_select = trial.suggest_int(\"rfe_features\", 2, 50)\n",
    "        modelo = make_pipeline(\n",
    "            StandardScaler(),\n",
    "            RFE(estimator=estimator, n_features_to_select=n_features_to_select),\n",
    "            ElasticNet(**parametros)\n",
    "        )\n",
    "    else:\n",
    "        modelo = ElasticNet(**parametros)\n",
    "\n",
    "    return modelo"
   ]
  },
  {
   "cell_type": "markdown",
   "id": "ffe1f87e",
   "metadata": {},
   "source": [
    "Criar função objetivo de cross validation"
   ]
  },
  {
   "cell_type": "code",
   "execution_count": null,
   "id": "35f7e7b5",
   "metadata": {},
   "outputs": [],
   "source": [
    "def funcao_objetivo(trial, X, y, num_folds, instanciador):\n",
    "    modelo = instanciador(trial)\n",
    "\n",
    "    metricas = -cross_val_score(\n",
    "        modelo,\n",
    "        X,\n",
    "        y,\n",
    "        scoring='neg_root_mean_squared_error',\n",
    "        cv=num_folds,\n",
    "        n_jobs=-1\n",
    "    )\n",
    "    return metricas.mean()\n"
   ]
  },
  {
   "cell_type": "markdown",
   "id": "52c2d8ea",
   "metadata": {},
   "source": [
    "Implementar o optuna"
   ]
  },
  {
   "cell_type": "code",
   "execution_count": null,
   "id": "d7e16698",
   "metadata": {},
   "outputs": [],
   "source": [
    "def rodar_optuna(nome_estudo, X, y, instanciador, num_folds=5, n_trials=1000):\n",
    "    study = create_study(\n",
    "        direction='minimize',\n",
    "        study_name=nome_estudo,\n",
    "        storage=f'sqlite:///{nome_estudo}.db',\n",
    "        load_if_exists=True,\n",
    "        pruner=HyperbandPruner(min_resource=1, max_resource=100, reduction_factor=3)\n",
    "    )\n",
    "\n",
    "    def objetivo_parcial(trial):\n",
    "        return funcao_objetivo(trial, X, y, num_folds, instanciador)\n",
    "\n",
    "    study.optimize(objetivo_parcial, n_trials=n_trials)\n",
    "    return study\n"
   ]
  },
  {
   "cell_type": "code",
   "execution_count": null,
   "id": "e78233ff",
   "metadata": {},
   "outputs": [],
   "source": [
    "study_en = rodar_optuna('elasticnet_xtb', X_train, y_train, inst_elasticnet)"
   ]
  },
  {
   "cell_type": "markdown",
   "id": "71d71999",
   "metadata": {},
   "source": [
    "### 3. Resultados"
   ]
  },
  {
   "cell_type": "markdown",
   "id": "d0e29249",
   "metadata": {},
   "source": [
    "Portanto, utilizando-se do Optuna Dashboard conseguimos:"
   ]
  },
  {
   "cell_type": "code",
   "execution_count": 36,
   "id": "44b2551b",
   "metadata": {},
   "outputs": [
    {
     "data": {
      "image/png": "[encoded data removed]",
      "text/plain": [
       "<IPython.core.display.Image object>"
      ]
     },
     "execution_count": 36,
     "metadata": {
      "image/png": {
       "height": 200,
       "width": 700
      }
     },
     "output_type": "execute_result"
    }
   ],
   "source": [
    "from IPython.display import Image\n",
    "Image(filename='../images/en_parameters.png', height=200, width=700)"
   ]
  },
  {
   "cell_type": "markdown",
   "id": "bc6cb675",
   "metadata": {},
   "source": [
    "Percebe-se que o trial 810 foi o melhor e analisando-se os resultados até ele, o RMSE não deve aumentar significativamente mais."
   ]
  },
  {
   "cell_type": "code",
   "execution_count": 37,
   "id": "facdc6dd",
   "metadata": {},
   "outputs": [
    {
     "data": {
      "image/png": "[encoded data removed]",
      "text/plain": [
       "<IPython.core.display.Image object>"
      ]
     },
     "execution_count": 37,
     "metadata": {
      "image/png": {
       "width": 300
      }
     },
     "output_type": "execute_result"
    }
   ],
   "source": [
    "Image(filename='../images/en_parameters.png', width=300)"
   ]
  },
  {
   "cell_type": "markdown",
   "id": "2818e149",
   "metadata": {},
   "source": [
    "Vê-se que o fit_intercept foi o parâmetro significativamente mais importante. Selection tem importância tendendo a zero, como era de se esperar."
   ]
  },
  {
   "cell_type": "markdown",
   "id": "1469b3be",
   "metadata": {},
   "source": [
    "Para o trial de melhor resultado, os parâmetros eram:\n",
    "\n",
    "Trial 810 finished with value: 0.00014746162905534939 and parameters: {'alpha': 0.00006820706258709369, 'l1_ratio': 0.17332460629146462, 'fit_intercept': True, 'positive': False, 'max_iter': 33778, 'tol': 8.423671561653807e-7, 'selection': 'random', 'normalizar': 'rfe', 'rfe_features': 31}."
   ]
  },
  {
   "cell_type": "markdown",
   "id": "27dc60a9",
   "metadata": {},
   "source": [
    "O resultado é muito promissor,com primeiro algarismo na quarta casa após a vírgula sendo 1. O RMSE é muito baixo, sendo possível ótima correção dos cálculos do xtb usando-se do ElasticNet."
   ]
  },
  {
   "cell_type": "markdown",
   "id": "837bc41f",
   "metadata": {},
   "source": [
    "### 4. Referências\n",
    "DATACAMP. Tutorial: Regressão Lasso e Ridge no Python. 2025. Disponível em: https://www.datacamp.com/pt/tutorial/tutorial-lasso-ridge-regression. Acesso em: 27 set. 2025.\n",
    "\n",
    "PEDREGOSA, F. et al. sklearn.linear_model.ElasticNet. Scikit-learn, 2025. Disponível em: https://scikit-learn.org/stable/modules/generated/sklearn.linear_model.ElasticNet.html. Acesso em: 27 set. 2025.\n",
    "\n",
    "THE PANDAS DEVELOPMENT TEAM. pandas.DataFrame.drop. Pandas, 2025. Disponível em: https://pandas.pydata-org.translate.goog/docs/reference/api/pandas.DataFrame.drop.html?_x_tr_sl=en&_x_tr_tl=pt&_x_tr_hl=pt&_x_tr_pto=tc. Acesso em: 27 set. 2025.\n",
    "\n",
    "ZINI, Fernando. Regressão Linear: Teoria e Prática. YouTube, 10 set. 2023. Disponível em: https://www.youtube.com/watch?v=VqKq78PVO9g. Acesso em: 27 set. 2025.\n",
    "\n",
    "PEDREGOSA, F. et al. 1.1. Linear Models. Scikit-learn, 2025. Disponível em: https://scikit-learn.org/stable/modules/linear_model.html. Acesso em: 27 set. 2025.\n",
    "\n",
    "DeepSeek. Disponível em: https://chat.deepseek.com/share/j7z37nakhld1e4jftp. Acesso em: 27 set. 2025.\n",
    "\n",
    "KAGGLE. Student Academic Performance Trends Dataset. 2024. Disponível em: https://www.kaggle.com/datasets/emanfatima2025/student-academic-performance-trends Acesso em: 27 set. 2025.\n",
    "\n",
    "Modelos 3, 2025. Silveira Matheus. Acesso em: 25 out. 2025.\n",
    "\n",
    "Modelos 7, 2025. Neto Aniel et al. Acesso em: 25 set. 2025.\n",
    "\n",
    "Modelos 6, 2025. Mendes Mateus et al. Acesso em: 25 out. 2025."
   ]
  }
 ],
 "metadata": {
  "kernelspec": {
   "display_name": "Python 3",
   "language": "python",
   "name": "python3"
  },
  "language_info": {
   "codemirror_mode": {
    "name": "ipython",
    "version": 3
   },
   "file_extension": ".py",
   "mimetype": "text/x-python",
   "name": "python",
   "nbconvert_exporter": "python",
   "pygments_lexer": "ipython3",
   "version": "3.12.7"
  }
 },
 "nbformat": 4,
 "nbformat_minor": 5
}
