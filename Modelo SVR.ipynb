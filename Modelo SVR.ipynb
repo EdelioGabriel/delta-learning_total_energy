{
 "cells": [
  {
   "cell_type": "markdown",
   "metadata": {},
   "source": [
    "# Modelo SRV"
   ]
  },
  {
   "cell_type": "markdown",
   "metadata": {},
   "source": [
    "Este notebbok aplicará o algoritmo de SVR ao dataset obtido pelo xTB.\n",
    "\n",
    "**Autor:** Edélio Gabriel Magalhães de Jesus."
   ]
  },
  {
   "cell_type": "markdown",
   "metadata": {},
   "source": [
    "<a id='sumario'></a>\n",
    "## Sumário"
   ]
  },
  {
   "cell_type": "markdown",
   "metadata": {},
   "source": [
    "- [1) Introdução](#intro)\n",
    "  - [1.1) Support Vector Machine: Uma visão geral](#svm)\n",
    "  - [1.2) Objetivo do notebook](#objetivo)\n",
    "- [2) Desenvlvimento do modelo](#desenvolvimento)\n",
    "  - [2.1) Bibliotecas necessárias](#bibliotecas)\n",
    "  - [2.2) Leitura e primeiras visualizações do *dataset*](#leitura)\n",
    "  - [2.3) Split dos dados](#split)"
   ]
  },
  {
   "cell_type": "markdown",
   "metadata": {},
   "source": [
    "<a id='intro'></a>\n",
    "## 1) Introdução "
   ]
  },
  {
   "cell_type": "markdown",
   "metadata": {},
   "source": [
    "<a id='svm'></a>\n",
    "### **1.1) Support Vector Machine: Uma Visão Geral**"
   ]
  },
  {
   "cell_type": "markdown",
   "metadata": {},
   "source": [
    "![gif](https://miro.medium.com/v2/resize:fit:1100/format:webp/0*2-EExC6mYeEMvtrw.gif)\n",
    "\n",
    "**Support Vector Machine (SVM)** é um algoritmo de aprendizado supervisionado inicialmente desenvolvido para **classificação binária**. Seu objetivo é encontrar **o hiperplano ótimo** que separa os dados de duas classes em um espaço de \\(n\\) dimensões. Esse “ótimo” não significa apenas separar corretamente, mas sim **maximizar a margem**, isto é, a distância entre a fronteira de decisão e os pontos mais próximos a ela [1, 2, 3, 4]. Esse processo de maximização tem suporte da **Teoria de Aprendizado Estatístico (TAE)** [4, 5] - se quiser saber mais, clique [aqui](https://en.wikipedia.org/wiki/Statistical_learning_theory).\n",
    "\n",
    "Esses pontos de cada classe que ficam mais próximos do hiperplano recebem o nome de **vetores de suporte** (*support vectors*) e são os elementos fundamentais que definem a solução final [1, 2, 3].  \n",
    "\n",
    "Embora tenha surgido para problemas binários [4], o SVM pode ser estendido a **classificação multiclasse**. As duas estratégias mais comuns são [6]:  \n",
    "- **One-vs-Rest (OvR)**: treina um classificador para cada classe contra todas as outras.  \n",
    "- **One-vs-One (OvO)**: treina classificadores para cada par de classes e usa votação para decidir a predição final.  \n",
    "\n",
    "Com o tempo, o conceito foi ampliado: hoje podemos considerar o **SVM** como sendo uma **família de modelos** baseados nessa mesma ideia de margem máxima, mas aplicados a diferentes contextos (classificação linear, não linear, regressão e até detecção de anomalias) [6].  \n",
    "\n",
    "No **scikit-learn**, as principais variantes são:  \n",
    "- **`SVC`** – Support Vector Classification, usado em classificação (linear ou com kernels).  \n",
    "- **`LinearSVC`** – versão otimizada para problemas lineares de alta dimensionalidade.  \n",
    "- **`NuSVC`** – alternativa ao `SVC` que usa o parâmetro `nu` em vez de `C` para controlar o número de vetores de suporte.  \n",
    "- **`SVR`** – Support Vector Regression, aplica o mesmo princípio à regressão.  \n",
    "- **`OneClassSVM`** – usado para detecção de anomalias/outliers. \n"
   ]
  },
  {
   "cell_type": "markdown",
   "metadata": {},
   "source": [
    "<a id='objetivo'></a>\n",
    "### **1.2) Objetivo do notebook**"
   ]
  },
  {
   "cell_type": "markdown",
   "metadata": {},
   "source": [
    "Neste notebook, implementaremos o algoritmo **`SVR`** em um modelo para resolver a tarefa de **regressão supervisionada**."
   ]
  },
  {
   "cell_type": "markdown",
   "metadata": {},
   "source": [
    "[Voltar ao topo](#sumario)"
   ]
  },
  {
   "cell_type": "markdown",
   "metadata": {},
   "source": [
    "<a id='desenvolvimento'></a>\n",
    "## 2) Desenvolvendo o modelo"
   ]
  },
  {
   "cell_type": "markdown",
   "metadata": {},
   "source": [
    "<a id='bibliotecas'></a>\n",
    "### **2.1) Bibliotecas e métodos necessários**"
   ]
  },
  {
   "cell_type": "markdown",
   "metadata": {},
   "source": [
    "Antes de tudo, precisamos importar alguns módulos e funções específicas. São quatro bibliotecas principais:\n",
    "\n",
    "1) **_pandas_**: para criação e manipulação de dataframes;  \n",
    "2) **_numpy_**: para operações matemáticas e tratamento de arrays;  \n",
    "3) **_plotly_**: para geração de gráficos interativos;  \n",
    "4) **_sklearn_**: para implementação de modelos e ferramentas de *Machine Learning* (como divisão de dados, normalização e validação cruzada).  \n",
    "5) **optuna**: para otimização dos hiperparâmetros"
   ]
  },
  {
   "cell_type": "code",
   "execution_count": 1,
   "metadata": {},
   "outputs": [],
   "source": [
    "import pandas as pd\n",
    "import numpy as np\n",
    "from sklearn.preprocessing import StandardScaler\n",
    "from sklearn.decomposition import PCA\n",
    "from sklearn.feature_selection import RFE\n",
    "from sklearn.model_selection import train_test_split\n",
    "from sklearn.svm import SVR\n",
    "from sklearn.pipeline import Pipeline\n",
    "from sklearn.metrics import root_mean_squared_error, r2_score\n",
    "import optuna as opt\n",
    "import plotly.graph_objects as go\n",
    "import plotly.express as px\n"
   ]
  },
  {
   "cell_type": "markdown",
   "metadata": {},
   "source": [
    "<a id='leitura'></a>\n",
    "### **2.2) Leitura e primeiras visualizações do *dataset***"
   ]
  },
  {
   "cell_type": "code",
   "execution_count": 14,
   "metadata": {},
   "outputs": [
    {
     "data": {
      "text/html": [
       "<div>\n",
       "<style scoped>\n",
       "    .dataframe tbody tr th:only-of-type {\n",
       "        vertical-align: middle;\n",
       "    }\n",
       "\n",
       "    .dataframe tbody tr th {\n",
       "        vertical-align: top;\n",
       "    }\n",
       "\n",
       "    .dataframe thead th {\n",
       "        text-align: right;\n",
       "    }\n",
       "</style>\n",
       "<table border=\"1\" class=\"dataframe\">\n",
       "  <thead>\n",
       "    <tr style=\"text-align: right;\">\n",
       "      <th></th>\n",
       "      <th>Dipole</th>\n",
       "      <th>E_HOMO</th>\n",
       "      <th>E_LUMO</th>\n",
       "      <th>gap_HOMO-LUMO</th>\n",
       "      <th>ZPE</th>\n",
       "      <th>H</th>\n",
       "      <th>U</th>\n",
       "      <th>U0</th>\n",
       "      <th>G</th>\n",
       "      <th>Delta</th>\n",
       "    </tr>\n",
       "  </thead>\n",
       "  <tbody>\n",
       "    <tr>\n",
       "      <th>count</th>\n",
       "      <td>6458.000000</td>\n",
       "      <td>6458.000000</td>\n",
       "      <td>6458.000000</td>\n",
       "      <td>6458.000000</td>\n",
       "      <td>6458.000000</td>\n",
       "      <td>6458.000000</td>\n",
       "      <td>6458.000000</td>\n",
       "      <td>6458.000000</td>\n",
       "      <td>6458.000000</td>\n",
       "      <td>6458.000000</td>\n",
       "    </tr>\n",
       "    <tr>\n",
       "      <th>mean</th>\n",
       "      <td>3.215199</td>\n",
       "      <td>-10.470498</td>\n",
       "      <td>-5.762511</td>\n",
       "      <td>-4.707987</td>\n",
       "      <td>0.143425</td>\n",
       "      <td>-26.820574</td>\n",
       "      <td>-26.821518</td>\n",
       "      <td>-26.972640</td>\n",
       "      <td>-26.861253</td>\n",
       "      <td>-13.506291</td>\n",
       "    </tr>\n",
       "    <tr>\n",
       "      <th>std</th>\n",
       "      <td>1.799220</td>\n",
       "      <td>0.592685</td>\n",
       "      <td>2.317082</td>\n",
       "      <td>2.267831</td>\n",
       "      <td>0.032534</td>\n",
       "      <td>2.138999</td>\n",
       "      <td>2.138999</td>\n",
       "      <td>2.151887</td>\n",
       "      <td>2.140352</td>\n",
       "      <td>2.151887</td>\n",
       "    </tr>\n",
       "    <tr>\n",
       "      <th>min</th>\n",
       "      <td>0.000000</td>\n",
       "      <td>-15.970300</td>\n",
       "      <td>-11.115600</td>\n",
       "      <td>-14.350000</td>\n",
       "      <td>0.012600</td>\n",
       "      <td>-34.330713</td>\n",
       "      <td>-34.331658</td>\n",
       "      <td>-34.452850</td>\n",
       "      <td>-34.374238</td>\n",
       "      <td>-33.305032</td>\n",
       "    </tr>\n",
       "    <tr>\n",
       "      <th>25%</th>\n",
       "      <td>1.917250</td>\n",
       "      <td>-10.833825</td>\n",
       "      <td>-7.438400</td>\n",
       "      <td>-5.824675</td>\n",
       "      <td>0.120836</td>\n",
       "      <td>-28.230497</td>\n",
       "      <td>-28.231441</td>\n",
       "      <td>-28.376829</td>\n",
       "      <td>-28.270545</td>\n",
       "      <td>-14.597758</td>\n",
       "    </tr>\n",
       "    <tr>\n",
       "      <th>50%</th>\n",
       "      <td>2.990500</td>\n",
       "      <td>-10.501300</td>\n",
       "      <td>-6.344050</td>\n",
       "      <td>-4.084500</td>\n",
       "      <td>0.142842</td>\n",
       "      <td>-27.078704</td>\n",
       "      <td>-27.079648</td>\n",
       "      <td>-27.258813</td>\n",
       "      <td>-27.118890</td>\n",
       "      <td>-13.220118</td>\n",
       "    </tr>\n",
       "    <tr>\n",
       "      <th>75%</th>\n",
       "      <td>4.253750</td>\n",
       "      <td>-10.137950</td>\n",
       "      <td>-4.455900</td>\n",
       "      <td>-3.219950</td>\n",
       "      <td>0.165291</td>\n",
       "      <td>-25.758758</td>\n",
       "      <td>-25.759702</td>\n",
       "      <td>-25.881173</td>\n",
       "      <td>-25.797411</td>\n",
       "      <td>-12.102102</td>\n",
       "    </tr>\n",
       "    <tr>\n",
       "      <th>max</th>\n",
       "      <td>26.537000</td>\n",
       "      <td>-6.421500</td>\n",
       "      <td>2.805200</td>\n",
       "      <td>-0.181300</td>\n",
       "      <td>0.247998</td>\n",
       "      <td>-7.144001</td>\n",
       "      <td>-7.144946</td>\n",
       "      <td>-7.173899</td>\n",
       "      <td>-7.168830</td>\n",
       "      <td>-6.026081</td>\n",
       "    </tr>\n",
       "  </tbody>\n",
       "</table>\n",
       "</div>"
      ],
      "text/plain": [
       "            Dipole       E_HOMO       E_LUMO  gap_HOMO-LUMO          ZPE  \\\n",
       "count  6458.000000  6458.000000  6458.000000    6458.000000  6458.000000   \n",
       "mean      3.215199   -10.470498    -5.762511      -4.707987     0.143425   \n",
       "std       1.799220     0.592685     2.317082       2.267831     0.032534   \n",
       "min       0.000000   -15.970300   -11.115600     -14.350000     0.012600   \n",
       "25%       1.917250   -10.833825    -7.438400      -5.824675     0.120836   \n",
       "50%       2.990500   -10.501300    -6.344050      -4.084500     0.142842   \n",
       "75%       4.253750   -10.137950    -4.455900      -3.219950     0.165291   \n",
       "max      26.537000    -6.421500     2.805200      -0.181300     0.247998   \n",
       "\n",
       "                 H            U           U0            G        Delta  \n",
       "count  6458.000000  6458.000000  6458.000000  6458.000000  6458.000000  \n",
       "mean    -26.820574   -26.821518   -26.972640   -26.861253   -13.506291  \n",
       "std       2.138999     2.138999     2.151887     2.140352     2.151887  \n",
       "min     -34.330713   -34.331658   -34.452850   -34.374238   -33.305032  \n",
       "25%     -28.230497   -28.231441   -28.376829   -28.270545   -14.597758  \n",
       "50%     -27.078704   -27.079648   -27.258813   -27.118890   -13.220118  \n",
       "75%     -25.758758   -25.759702   -25.881173   -25.797411   -12.102102  \n",
       "max      -7.144001    -7.144946    -7.173899    -7.168830    -6.026081  "
      ]
     },
     "execution_count": 14,
     "metadata": {},
     "output_type": "execute_result"
    }
   ],
   "source": [
    "SEMENTE_ALEATORIA = 367\n",
    "\n",
    "df = pd.read_csv('./dataset_processing/xtb_dataset.csv').sample(frac=0.05, random_state=SEMENTE_ALEATORIA)\n",
    "\n",
    "df.describe()"
   ]
  },
  {
   "cell_type": "markdown",
   "metadata": {},
   "source": [
    "A documentação disponível no *sklearn* [6] indica que, para conjunto de dados muito grandes, o algoritmo *LinearSVR* pode ser mais eficiente em termos de memória e tempo de execução. Contudo, é necessário ter certeza que a relação entre as variáveis é linear. Para isso, podemos conferir observando a `Matriz de Correlação`.\n",
    "\n",
    "---\n",
    "\n",
    "A **Matriz de Correlação** $\\mathbf{C}$ é uma matriz simétrica contendo todas as possíveis correlações computadas para cada $x_i$, dois a dois (as correlações são os coeficientes de correlação de Pearson). Supondo que temos $(x_1, x_2, x_3)$, a matriz de correlação será:\n",
    "\n",
    "$$\n",
    "\\mathbf{C} =\n",
    "\\left[\\begin{array}{ccc}\n",
    "\\mathrm{Corr}(x_{1},x_{1})&\\mathrm{Corr}(x_{1},x_{2})&\\mathrm{Corr}(x_{1},x_{3})\\\\\n",
    "\\mathrm{Corr}(x_{2},x_{1})&\\mathrm{Corr}(x_{2},x_{2})&\\mathrm{Corr}(x_{2},x_{3})\\\\\n",
    "\\mathrm{Corr}(x_{3},x_{1})&\\mathrm{Corr}(x_{3},x_{2})&\\mathrm{Corr}(x_{3},x_{3})\\\\\n",
    "\\end{array} \\right].\n",
    "$$\n",
    "\n",
    "---"
   ]
  },
  {
   "cell_type": "code",
   "execution_count": 3,
   "metadata": {},
   "outputs": [
    {
     "data": {
      "application/vnd.plotly.v1+json": {
       "config": {
        "plotlyServerURL": "https://plot.ly"
       },
       "data": [
        {
         "coloraxis": "coloraxis",
         "hovertemplate": "x: %{x}<br>y: %{y}<br>color: %{z}<extra></extra>",
         "name": "0",
         "texttemplate": "%{z}",
         "type": "heatmap",
         "x": [
          "Dipole",
          "E_HOMO",
          "E_LUMO",
          "gap_HOMO-LUMO",
          "ZPE",
          "H",
          "U",
          "U0",
          "G",
          "Delta"
         ],
         "xaxis": "x",
         "y": [
          "Dipole",
          "E_HOMO",
          "E_LUMO",
          "gap_HOMO-LUMO",
          "ZPE",
          "H",
          "U",
          "U0",
          "G",
          "Delta"
         ],
         "yaxis": "y",
         "z": {
          "bdata": "AAAAAAAA8D+xB4q9K9apv8UMUekzKdu/y0g8liLo2j+oH0Ci3yrYv9Rg2cv6YLa/0mDZy/pgtr+H13qDYMi0vzxpW4BzX7a/ntd6g2DItD+xB4q9K9apvwAAAAAAAPA/0OZjAuHkyj+Jwmy9XOWnP7XASIejtsw/HaTOgIrFsD8ipM6AisWwPwGOKM+mna8/21EtxSnIsD8IjijPpp2vv8UMUekzKdu/0OZjAuHkyj8AAAAAAADwP18azosT8O6/vcZplzGq5D8nHCbbs626vyAcJtuzrbq/uhYXs64Gvb+gMBubDaq6v7UWF7OuBr0/y0g8liLo2j+Jwmy9XOWnP18azosT8O6/AAAAAAAA8D+EVvfe0Tzjv8CfhW0epL8/tZ+FbR6kvz+jV78Z1uTAPyjQAFITob8/m1e/GdbkwL+oH0Ci3yrYv7XASIejtsw/vcZplzGq5D+EVvfe0TzjvwAAAAAAAPA/WP4+DmzM179V/j4ObMzXv/jErxkno9i/+kHnmmrP17/zxK8ZJ6PYP9Rg2cv6YLa/HaTOgIrFsD8nHCbbs626v8CfhW0epL8/WP4+DmzM178AAAAAAADwPwAAAAAAAPA/TiIYpS3/7z8TLE5B///vP0siGKUt/++/0mDZy/pgtr8ipM6AisWwPyAcJtuzrbq/tZ+FbR6kvz9V/j4ObMzXvwAAAAAAAPA/AAAAAAAA8D9JIhilLf/vPxIsTkH//+8/RSIYpS3/77+H13qDYMi0vwGOKM+mna8/uhYXs64Gvb+jV78Z1uTAP/jErxkno9i/TiIYpS3/7z9JIhilLf/vPwAAAAAAAPA/MClkXDP/7z8BAAAAAADwvzxpW4BzX7a/21EtxSnIsD+gMBubDaq6vyjQAFITob8/+kHnmmrP178TLE5B///vPxIsTkH//+8/MClkXDP/7z8AAAAAAADwPy0pZFwz/++/ntd6g2DItD8IjijPpp2vv7UWF7OuBr0/m1e/GdbkwL/zxK8ZJ6PYP0siGKUt/++/RSIYpS3/778BAAAAAADwvy0pZFwz/++/AAAAAAAA8D8=",
          "dtype": "f8",
          "shape": "10, 10"
         }
        }
       ],
       "layout": {
        "coloraxis": {
         "colorscale": [
          [
           0,
           "#0d0887"
          ],
          [
           0.1111111111111111,
           "#46039f"
          ],
          [
           0.2222222222222222,
           "#7201a8"
          ],
          [
           0.3333333333333333,
           "#9c179e"
          ],
          [
           0.4444444444444444,
           "#bd3786"
          ],
          [
           0.5555555555555556,
           "#d8576b"
          ],
          [
           0.6666666666666666,
           "#ed7953"
          ],
          [
           0.7777777777777778,
           "#fb9f3a"
          ],
          [
           0.8888888888888888,
           "#fdca26"
          ],
          [
           1,
           "#f0f921"
          ]
         ]
        },
        "template": {
         "data": {
          "bar": [
           {
            "error_x": {
             "color": "#2a3f5f"
            },
            "error_y": {
             "color": "#2a3f5f"
            },
            "marker": {
             "line": {
              "color": "#E5ECF6",
              "width": 0.5
             },
             "pattern": {
              "fillmode": "overlay",
              "size": 10,
              "solidity": 0.2
             }
            },
            "type": "bar"
           }
          ],
          "barpolar": [
           {
            "marker": {
             "line": {
              "color": "#E5ECF6",
              "width": 0.5
             },
             "pattern": {
              "fillmode": "overlay",
              "size": 10,
              "solidity": 0.2
             }
            },
            "type": "barpolar"
           }
          ],
          "carpet": [
           {
            "aaxis": {
             "endlinecolor": "#2a3f5f",
             "gridcolor": "white",
             "linecolor": "white",
             "minorgridcolor": "white",
             "startlinecolor": "#2a3f5f"
            },
            "baxis": {
             "endlinecolor": "#2a3f5f",
             "gridcolor": "white",
             "linecolor": "white",
             "minorgridcolor": "white",
             "startlinecolor": "#2a3f5f"
            },
            "type": "carpet"
           }
          ],
          "choropleth": [
           {
            "colorbar": {
             "outlinewidth": 0,
             "ticks": ""
            },
            "type": "choropleth"
           }
          ],
          "contour": [
           {
            "colorbar": {
             "outlinewidth": 0,
             "ticks": ""
            },
            "colorscale": [
             [
              0,
              "#0d0887"
             ],
             [
              0.1111111111111111,
              "#46039f"
             ],
             [
              0.2222222222222222,
              "#7201a8"
             ],
             [
              0.3333333333333333,
              "#9c179e"
             ],
             [
              0.4444444444444444,
              "#bd3786"
             ],
             [
              0.5555555555555556,
              "#d8576b"
             ],
             [
              0.6666666666666666,
              "#ed7953"
             ],
             [
              0.7777777777777778,
              "#fb9f3a"
             ],
             [
              0.8888888888888888,
              "#fdca26"
             ],
             [
              1,
              "#f0f921"
             ]
            ],
            "type": "contour"
           }
          ],
          "contourcarpet": [
           {
            "colorbar": {
             "outlinewidth": 0,
             "ticks": ""
            },
            "type": "contourcarpet"
           }
          ],
          "heatmap": [
           {
            "colorbar": {
             "outlinewidth": 0,
             "ticks": ""
            },
            "colorscale": [
             [
              0,
              "#0d0887"
             ],
             [
              0.1111111111111111,
              "#46039f"
             ],
             [
              0.2222222222222222,
              "#7201a8"
             ],
             [
              0.3333333333333333,
              "#9c179e"
             ],
             [
              0.4444444444444444,
              "#bd3786"
             ],
             [
              0.5555555555555556,
              "#d8576b"
             ],
             [
              0.6666666666666666,
              "#ed7953"
             ],
             [
              0.7777777777777778,
              "#fb9f3a"
             ],
             [
              0.8888888888888888,
              "#fdca26"
             ],
             [
              1,
              "#f0f921"
             ]
            ],
            "type": "heatmap"
           }
          ],
          "histogram": [
           {
            "marker": {
             "pattern": {
              "fillmode": "overlay",
              "size": 10,
              "solidity": 0.2
             }
            },
            "type": "histogram"
           }
          ],
          "histogram2d": [
           {
            "colorbar": {
             "outlinewidth": 0,
             "ticks": ""
            },
            "colorscale": [
             [
              0,
              "#0d0887"
             ],
             [
              0.1111111111111111,
              "#46039f"
             ],
             [
              0.2222222222222222,
              "#7201a8"
             ],
             [
              0.3333333333333333,
              "#9c179e"
             ],
             [
              0.4444444444444444,
              "#bd3786"
             ],
             [
              0.5555555555555556,
              "#d8576b"
             ],
             [
              0.6666666666666666,
              "#ed7953"
             ],
             [
              0.7777777777777778,
              "#fb9f3a"
             ],
             [
              0.8888888888888888,
              "#fdca26"
             ],
             [
              1,
              "#f0f921"
             ]
            ],
            "type": "histogram2d"
           }
          ],
          "histogram2dcontour": [
           {
            "colorbar": {
             "outlinewidth": 0,
             "ticks": ""
            },
            "colorscale": [
             [
              0,
              "#0d0887"
             ],
             [
              0.1111111111111111,
              "#46039f"
             ],
             [
              0.2222222222222222,
              "#7201a8"
             ],
             [
              0.3333333333333333,
              "#9c179e"
             ],
             [
              0.4444444444444444,
              "#bd3786"
             ],
             [
              0.5555555555555556,
              "#d8576b"
             ],
             [
              0.6666666666666666,
              "#ed7953"
             ],
             [
              0.7777777777777778,
              "#fb9f3a"
             ],
             [
              0.8888888888888888,
              "#fdca26"
             ],
             [
              1,
              "#f0f921"
             ]
            ],
            "type": "histogram2dcontour"
           }
          ],
          "mesh3d": [
           {
            "colorbar": {
             "outlinewidth": 0,
             "ticks": ""
            },
            "type": "mesh3d"
           }
          ],
          "parcoords": [
           {
            "line": {
             "colorbar": {
              "outlinewidth": 0,
              "ticks": ""
             }
            },
            "type": "parcoords"
           }
          ],
          "pie": [
           {
            "automargin": true,
            "type": "pie"
           }
          ],
          "scatter": [
           {
            "fillpattern": {
             "fillmode": "overlay",
             "size": 10,
             "solidity": 0.2
            },
            "type": "scatter"
           }
          ],
          "scatter3d": [
           {
            "line": {
             "colorbar": {
              "outlinewidth": 0,
              "ticks": ""
             }
            },
            "marker": {
             "colorbar": {
              "outlinewidth": 0,
              "ticks": ""
             }
            },
            "type": "scatter3d"
           }
          ],
          "scattercarpet": [
           {
            "marker": {
             "colorbar": {
              "outlinewidth": 0,
              "ticks": ""
             }
            },
            "type": "scattercarpet"
           }
          ],
          "scattergeo": [
           {
            "marker": {
             "colorbar": {
              "outlinewidth": 0,
              "ticks": ""
             }
            },
            "type": "scattergeo"
           }
          ],
          "scattergl": [
           {
            "marker": {
             "colorbar": {
              "outlinewidth": 0,
              "ticks": ""
             }
            },
            "type": "scattergl"
           }
          ],
          "scattermap": [
           {
            "marker": {
             "colorbar": {
              "outlinewidth": 0,
              "ticks": ""
             }
            },
            "type": "scattermap"
           }
          ],
          "scattermapbox": [
           {
            "marker": {
             "colorbar": {
              "outlinewidth": 0,
              "ticks": ""
             }
            },
            "type": "scattermapbox"
           }
          ],
          "scatterpolar": [
           {
            "marker": {
             "colorbar": {
              "outlinewidth": 0,
              "ticks": ""
             }
            },
            "type": "scatterpolar"
           }
          ],
          "scatterpolargl": [
           {
            "marker": {
             "colorbar": {
              "outlinewidth": 0,
              "ticks": ""
             }
            },
            "type": "scatterpolargl"
           }
          ],
          "scatterternary": [
           {
            "marker": {
             "colorbar": {
              "outlinewidth": 0,
              "ticks": ""
             }
            },
            "type": "scatterternary"
           }
          ],
          "surface": [
           {
            "colorbar": {
             "outlinewidth": 0,
             "ticks": ""
            },
            "colorscale": [
             [
              0,
              "#0d0887"
             ],
             [
              0.1111111111111111,
              "#46039f"
             ],
             [
              0.2222222222222222,
              "#7201a8"
             ],
             [
              0.3333333333333333,
              "#9c179e"
             ],
             [
              0.4444444444444444,
              "#bd3786"
             ],
             [
              0.5555555555555556,
              "#d8576b"
             ],
             [
              0.6666666666666666,
              "#ed7953"
             ],
             [
              0.7777777777777778,
              "#fb9f3a"
             ],
             [
              0.8888888888888888,
              "#fdca26"
             ],
             [
              1,
              "#f0f921"
             ]
            ],
            "type": "surface"
           }
          ],
          "table": [
           {
            "cells": {
             "fill": {
              "color": "#EBF0F8"
             },
             "line": {
              "color": "white"
             }
            },
            "header": {
             "fill": {
              "color": "#C8D4E3"
             },
             "line": {
              "color": "white"
             }
            },
            "type": "table"
           }
          ]
         },
         "layout": {
          "annotationdefaults": {
           "arrowcolor": "#2a3f5f",
           "arrowhead": 0,
           "arrowwidth": 1
          },
          "autotypenumbers": "strict",
          "coloraxis": {
           "colorbar": {
            "outlinewidth": 0,
            "ticks": ""
           }
          },
          "colorscale": {
           "diverging": [
            [
             0,
             "#8e0152"
            ],
            [
             0.1,
             "#c51b7d"
            ],
            [
             0.2,
             "#de77ae"
            ],
            [
             0.3,
             "#f1b6da"
            ],
            [
             0.4,
             "#fde0ef"
            ],
            [
             0.5,
             "#f7f7f7"
            ],
            [
             0.6,
             "#e6f5d0"
            ],
            [
             0.7,
             "#b8e186"
            ],
            [
             0.8,
             "#7fbc41"
            ],
            [
             0.9,
             "#4d9221"
            ],
            [
             1,
             "#276419"
            ]
           ],
           "sequential": [
            [
             0,
             "#0d0887"
            ],
            [
             0.1111111111111111,
             "#46039f"
            ],
            [
             0.2222222222222222,
             "#7201a8"
            ],
            [
             0.3333333333333333,
             "#9c179e"
            ],
            [
             0.4444444444444444,
             "#bd3786"
            ],
            [
             0.5555555555555556,
             "#d8576b"
            ],
            [
             0.6666666666666666,
             "#ed7953"
            ],
            [
             0.7777777777777778,
             "#fb9f3a"
            ],
            [
             0.8888888888888888,
             "#fdca26"
            ],
            [
             1,
             "#f0f921"
            ]
           ],
           "sequentialminus": [
            [
             0,
             "#0d0887"
            ],
            [
             0.1111111111111111,
             "#46039f"
            ],
            [
             0.2222222222222222,
             "#7201a8"
            ],
            [
             0.3333333333333333,
             "#9c179e"
            ],
            [
             0.4444444444444444,
             "#bd3786"
            ],
            [
             0.5555555555555556,
             "#d8576b"
            ],
            [
             0.6666666666666666,
             "#ed7953"
            ],
            [
             0.7777777777777778,
             "#fb9f3a"
            ],
            [
             0.8888888888888888,
             "#fdca26"
            ],
            [
             1,
             "#f0f921"
            ]
           ]
          },
          "colorway": [
           "#636efa",
           "#EF553B",
           "#00cc96",
           "#ab63fa",
           "#FFA15A",
           "#19d3f3",
           "#FF6692",
           "#B6E880",
           "#FF97FF",
           "#FECB52"
          ],
          "font": {
           "color": "#2a3f5f"
          },
          "geo": {
           "bgcolor": "white",
           "lakecolor": "white",
           "landcolor": "#E5ECF6",
           "showlakes": true,
           "showland": true,
           "subunitcolor": "white"
          },
          "hoverlabel": {
           "align": "left"
          },
          "hovermode": "closest",
          "mapbox": {
           "style": "light"
          },
          "paper_bgcolor": "white",
          "plot_bgcolor": "#E5ECF6",
          "polar": {
           "angularaxis": {
            "gridcolor": "white",
            "linecolor": "white",
            "ticks": ""
           },
           "bgcolor": "#E5ECF6",
           "radialaxis": {
            "gridcolor": "white",
            "linecolor": "white",
            "ticks": ""
           }
          },
          "scene": {
           "xaxis": {
            "backgroundcolor": "#E5ECF6",
            "gridcolor": "white",
            "gridwidth": 2,
            "linecolor": "white",
            "showbackground": true,
            "ticks": "",
            "zerolinecolor": "white"
           },
           "yaxis": {
            "backgroundcolor": "#E5ECF6",
            "gridcolor": "white",
            "gridwidth": 2,
            "linecolor": "white",
            "showbackground": true,
            "ticks": "",
            "zerolinecolor": "white"
           },
           "zaxis": {
            "backgroundcolor": "#E5ECF6",
            "gridcolor": "white",
            "gridwidth": 2,
            "linecolor": "white",
            "showbackground": true,
            "ticks": "",
            "zerolinecolor": "white"
           }
          },
          "shapedefaults": {
           "line": {
            "color": "#2a3f5f"
           }
          },
          "ternary": {
           "aaxis": {
            "gridcolor": "white",
            "linecolor": "white",
            "ticks": ""
           },
           "baxis": {
            "gridcolor": "white",
            "linecolor": "white",
            "ticks": ""
           },
           "bgcolor": "#E5ECF6",
           "caxis": {
            "gridcolor": "white",
            "linecolor": "white",
            "ticks": ""
           }
          },
          "title": {
           "x": 0.05
          },
          "xaxis": {
           "automargin": true,
           "gridcolor": "white",
           "linecolor": "white",
           "ticks": "",
           "title": {
            "standoff": 15
           },
           "zerolinecolor": "white",
           "zerolinewidth": 2
          },
          "yaxis": {
           "automargin": true,
           "gridcolor": "white",
           "linecolor": "white",
           "ticks": "",
           "title": {
            "standoff": 15
           },
           "zerolinecolor": "white",
           "zerolinewidth": 2
          }
         }
        },
        "title": {
         "text": "Matriz de Correlação"
        },
        "xaxis": {
         "anchor": "y",
         "domain": [
          0,
          1
         ]
        },
        "yaxis": {
         "anchor": "x",
         "autorange": "reversed",
         "domain": [
          0,
          1
         ]
        }
       }
      }
     },
     "metadata": {},
     "output_type": "display_data"
    }
   ],
   "source": [
    "corr = df.corr()\n",
    "\n",
    "fig = px.imshow(corr, text_auto=True, aspect=\"auto\",\n",
    "                title=\"Matriz de Correlação\")\n",
    "fig.show()\n"
   ]
  },
  {
   "cell_type": "markdown",
   "metadata": {},
   "source": [
    "Correlação próximas de **1** ou **-1** indicam uma forte relação linear entre a variável independente $X$ e o *target*.  \n",
    "Com base nisso, observa-se que **apenas 4 dos 9 atributos** apresentam essa característica.  \n",
    "\n",
    "Isso sugere que o conjunto de dados possui **relações predominantemente não lineares**, o que torna **inadequado o uso do algoritmo *LinearSVR*** — uma versão mais simples e menos custosa do *Support Vector Regressor*.  \n",
    "\n",
    "Assim, **optamos pelo uso do *SVR* clássico**, que permite explorar diferentes *kernels* capazes de capturar **padrões mais complexos** nas relações entre as variáveis."
   ]
  },
  {
   "cell_type": "markdown",
   "metadata": {},
   "source": [
    "<a id='split'></a>\n",
    "### **2.3) Split dos dados**"
   ]
  },
  {
   "cell_type": "markdown",
   "metadata": {},
   "source": [
    "A etapa de *split* no tratamento de dados consiste em `dividir` o conjunto de dados disponível em subconjuntos distintos: *`treinamento`* e *`teste`*. Essa divisão é importante para que o modelo de aprendizado de máquina seja treinado em uma parte dos dados e, posteriormente, avaliado em dados que ele nunca viu, garantindo uma medição justa de seu desempenho e evitando o *overfitting* - o ajuste excessivo aos dados de treinamento - e o *underfitting* - subestimação dos dados."
   ]
  },
  {
   "cell_type": "code",
   "execution_count": 4,
   "metadata": {},
   "outputs": [],
   "source": [
    "TAMANHO_TESTE = 0.2\n",
    "SEMENTE_ALEATORIA = 367\n",
    "\n",
    "X = df.drop(columns=['Delta'])\n",
    "y = df['Delta']\n",
    "\n",
    "X_treino, X_teste, y_treino, y_teste =train_test_split(X, y, test_size=TAMANHO_TESTE, random_state=SEMENTE_ALEATORIA)"
   ]
  },
  {
   "cell_type": "markdown",
   "metadata": {},
   "source": [
    "<a id='optuna'></a>\n",
    "### **2.4) Otimização dos hiperparâmetros com o optuna**"
   ]
  },
  {
   "cell_type": "markdown",
   "metadata": {},
   "source": [
    "#### `Modelo e espaço de busca`"
   ]
  },
  {
   "cell_type": "markdown",
   "metadata": {},
   "source": [
    "A função `cria_instancia_modelo` abaixo serve para criar uma instância do modelo escolhido. Esta função recebe um objeto tipo *trial*; do `optuna`.\n",
    "\n",
    "Observe que o dicionário `parametros` dentro desta função tem como chaves os nomes dos argumentos do modelo. Os valores dos argumentos, por sua vez, podem ser sorteados com as funções\n",
    "\n",
    "-   `trial.suggest_int` (para números inteiros)\n",
    "-   `trial.suggest_float` (para números reais) e\n",
    "-   `trial.suggest_categorical` (para dados categóricos).\n",
    "\n",
    "São com estas funções que delimitamos o **espaço de busca** dos hiperparâmetros do modelo.\n",
    "\n",
    "Além dos parâmetros do modelo, estamos permitindo que o *optuna* decida se irá realizar os pré-processamentos de reduzir a dimensionalidade (via *PCA*)."
   ]
  },
  {
   "cell_type": "code",
   "execution_count": 11,
   "metadata": {},
   "outputs": [],
   "source": [
    "def criar_instancia_modelo(trial):\n",
    "    kernel_escolhido = trial.suggest_categorical(\"kernel\", [\"rbf\", \"poly\", \"linear\", \"sigmoid\"])\n",
    "\n",
    "    # gamma contínuo (apenas para kernels não lineares)\n",
    "    if kernel_escolhido in [\"rbf\", \"poly\", \"sigmoid\"]:\n",
    "        gamma = trial.suggest_float(\"gamma\", 1e-4, 10, log=True)\n",
    "    else:\n",
    "        gamma = \"scale\"\n",
    "\n",
    "    parametros_svr = {\n",
    "        \"C\": trial.suggest_float(\"C\", 1e-3, 1e3, log=True),\n",
    "        \"epsilon\": trial.suggest_float(\"epsilon\", 1e-4, 1.0, log=True),\n",
    "        \"kernel\": kernel_escolhido,\n",
    "        \"degree\": trial.suggest_int(\"degree\", 2, 7) if kernel_escolhido == \"poly\" else 3,\n",
    "        \"gamma\": gamma,\n",
    "        \"coef0\": trial.suggest_float(\"coef0\", 0.0, 10.0),\n",
    "        \"shrinking\": trial.suggest_categorical(\"shrinking\", [True, False]),\n",
    "    }\n",
    "\n",
    "    usar_pca = trial.suggest_categorical(\"usar_pca\", [True, False])\n",
    "    steps = [(\"normalizador\", StandardScaler())]\n",
    "\n",
    "    if usar_pca and kernel_escolhido in [\"rbf\", \"poly\", \"sigmoid\"]:\n",
    "        n_comp = trial.suggest_float(\"variancia_pca\", 0.85, 0.99)\n",
    "        steps.append((\"pca\", PCA(n_components=n_comp, random_state=SEMENTE_ALEATORIA)))\n",
    "\n",
    "    steps.append((\"regressor\", SVR(**parametros_svr)))\n",
    "    modelo = Pipeline(steps=steps)\n",
    "    return modelo\n"
   ]
  },
  {
   "cell_type": "markdown",
   "metadata": {},
   "source": [
    "#### `Função objetivo`"
   ]
  },
  {
   "cell_type": "markdown",
   "metadata": {},
   "source": [
    "A **função objetivo** em um problema de otimização é responsável por calcular a **métrica de desempenho** que será minimizada ou maximizada durante o processo.  \n",
    "\n",
    "Neste caso, a métrica escolhida é o **RMSE (Root Mean Squared Error)**, obtido por meio de **validação cruzada**.\n",
    "\n",
    "---\n",
    "\n",
    "**Observação:**  \n",
    "O *Python* (ou mais especificamente, algumas funções do `scikit-learn`) retorna valores **negativos** para métricas de erro quando configuradas para maximização.  \n",
    "Por isso, é necessário **multiplicar por -1** antes de calcular a média dos valores de RMSE, garantindo que o algoritmo do Optuna minimize corretamente o erro.\n"
   ]
  },
  {
   "cell_type": "code",
   "execution_count": 12,
   "metadata": {},
   "outputs": [],
   "source": [
    "from sklearn.model_selection import KFold, cross_val_score\n",
    "\n",
    "def funcao_objetivo(trial, X, y, NUM_FOLDS=10):\n",
    "    # Cria o modelo SVR usando o pipeline\n",
    "    modelo = criar_instancia_modelo(trial)\n",
    "\n",
    "    # KFold para regressão\n",
    "    cv = KFold(\n",
    "        n_splits=NUM_FOLDS,\n",
    "        shuffle=True,\n",
    "        random_state=SEMENTE_ALEATORIA\n",
    "    )\n",
    "\n",
    "    # Cross-validation usando RMSE como métrica\n",
    "    metricas = cross_val_score(\n",
    "        modelo,\n",
    "        X,\n",
    "        y,\n",
    "        scoring=\"neg_root_mean_squared_error\",  # para regressão\n",
    "        cv=cv,\n",
    "        n_jobs=-1\n",
    "    )\n",
    "\n",
    "    # Retorna a média do RMSE\n",
    "    return -metricas.mean()\n"
   ]
  },
  {
   "cell_type": "markdown",
   "metadata": {},
   "source": [
    "#### `Otimização`"
   ]
  },
  {
   "cell_type": "markdown",
   "metadata": {},
   "source": [
    "A otimização dos hiperparâmetros é conduzida por meio da criação de um **objeto de estudo** com a função `create_study`.\n",
    "\n",
    "No nosso caso, como a métrica de interesse é o **RMSE (Root Mean Squared Error)** — um indicador de erro —, quanto **menor** o seu valor, **melhor** o desempenho do modelo.  \n",
    "Por isso, atribuímos o valor `\"minimize\"` ao argumento `direction`.\n",
    "\n",
    "O parâmetro `study_name` define um **nome identificador** para o processo de busca, permitindo que possamos retomá-lo posteriormente.  \n",
    "Já o argumento `storage` especifica o **local onde os resultados do estudo serão armazenados**, geralmente em um arquivo de banco de dados no formato SQLite (`.db`).\n",
    "\n",
    "Por fim, o argumento `load_if_exists=True` instrui o Optuna a **verificar se já existe um estudo com o mesmo nome**.  \n",
    "Caso exista, o novo processo será **incorporado ao estudo anterior**, permitindo continuar a otimização de forma cumulativa.\n"
   ]
  },
  {
   "cell_type": "code",
   "execution_count": 9,
   "metadata": {},
   "outputs": [
    {
     "name": "stderr",
     "output_type": "stream",
     "text": [
      "[I 2025-10-25 21:10:43,250] Using an existing study with name 'svr_xtb_dataset' instead of creating a new one.\n",
      "[I 2025-10-25 21:11:20,274] Trial 54 finished with value: 0.006211079712604486 and parameters: {'kernel': 'poly', 'C': 30.767013800489934, 'epsilon': 0.01038687192142026, 'degree': 3, 'gamma': 'auto', 'coef0': 0.1796200571206607, 'shrinking': True, 'usar_pca': False}. Best is trial 20 with value: 0.0032931874855121244.\n",
      "[I 2025-10-25 23:11:48,253] Trial 55 finished with value: 3.7940842870676854 and parameters: {'kernel': 'poly', 'C': 33.74320410366235, 'epsilon': 0.01775495785261328, 'degree': 4, 'gamma': 'auto', 'coef0': 0.003450700628152297, 'shrinking': True, 'usar_pca': True, 'variancia_pca': 0.929004303375524}. Best is trial 20 with value: 0.0032931874855121244.\n",
      "[I 2025-10-25 23:11:51,156] Trial 56 finished with value: 0.006223972376598386 and parameters: {'kernel': 'poly', 'C': 14.023481621062867, 'epsilon': 0.016285704562603635, 'degree': 2, 'gamma': 'auto', 'coef0': 0.1042159746949522, 'shrinking': True, 'usar_pca': False}. Best is trial 20 with value: 0.0032931874855121244.\n",
      "[I 2025-10-25 23:11:52,367] Trial 57 finished with value: 0.006993904292784753 and parameters: {'kernel': 'linear', 'C': 15.320336594216712, 'epsilon': 0.023991370235739058, 'gamma': 'auto', 'coef0': 0.3758639874127324, 'shrinking': True, 'usar_pca': False}. Best is trial 20 with value: 0.0032931874855121244.\n",
      "[I 2025-10-25 23:13:12,932] Trial 58 finished with value: 0.006310630034483432 and parameters: {'kernel': 'poly', 'C': 39.21096067699215, 'epsilon': 0.010647574194736855, 'degree': 3, 'gamma': 'scale', 'coef0': 0.2104056063861417, 'shrinking': False, 'usar_pca': False}. Best is trial 20 with value: 0.0032931874855121244.\n",
      "[I 2025-10-25 23:40:56,007] Trial 59 finished with value: 3.1352646170215905 and parameters: {'kernel': 'poly', 'C': 8.051534799170051, 'epsilon': 0.016490017777239827, 'degree': 5, 'gamma': 'auto', 'coef0': 0.09129434553588009, 'shrinking': True, 'usar_pca': False}. Best is trial 20 with value: 0.0032931874855121244.\n",
      "[I 2025-10-25 23:40:57,647] Trial 60 finished with value: 0.5420710764665426 and parameters: {'kernel': 'rbf', 'C': 49.6719475258918, 'epsilon': 0.698295583992905, 'gamma': 'auto', 'coef0': 0.31825794838732974, 'shrinking': True, 'usar_pca': True, 'variancia_pca': 0.8618222264474061}. Best is trial 20 with value: 0.0032931874855121244.\n",
      "[I 2025-10-25 23:41:07,272] Trial 61 finished with value: 0.003982011277236312 and parameters: {'kernel': 'linear', 'C': 18.68605957314734, 'epsilon': 0.013931835225861016, 'gamma': 'auto', 'coef0': 0.1571168246930953, 'shrinking': True, 'usar_pca': False}. Best is trial 20 with value: 0.0032931874855121244.\n",
      "[I 2025-10-25 23:41:15,256] Trial 62 finished with value: 0.007678841820631712 and parameters: {'kernel': 'linear', 'C': 21.881147225982982, 'epsilon': 0.02643713150474529, 'gamma': 'auto', 'coef0': 0.4937809401248378, 'shrinking': True, 'usar_pca': False}. Best is trial 20 with value: 0.0032931874855121244.\n",
      "[I 2025-10-25 23:41:23,126] Trial 63 finished with value: 0.00398967323365105 and parameters: {'kernel': 'linear', 'C': 9.153905219700556, 'epsilon': 0.013931954220222977, 'gamma': 'auto', 'coef0': 0.16066309714945348, 'shrinking': True, 'usar_pca': False}. Best is trial 20 with value: 0.0032931874855121244.\n",
      "[I 2025-10-25 23:41:31,695] Trial 64 finished with value: 0.00421898235246122 and parameters: {'kernel': 'linear', 'C': 9.411617144630378, 'epsilon': 0.014779040126849942, 'gamma': 'auto', 'coef0': 0.1416152599749217, 'shrinking': True, 'usar_pca': False}. Best is trial 20 with value: 0.0032931874855121244.\n",
      "[I 2025-10-25 23:41:32,217] Trial 65 finished with value: 0.00374061913280489 and parameters: {'kernel': 'linear', 'C': 54.62167143089854, 'epsilon': 0.013167400796914886, 'gamma': 'auto', 'coef0': 0.04594611992558875, 'shrinking': True, 'usar_pca': False}. Best is trial 20 with value: 0.0032931874855121244.\n",
      "[I 2025-10-25 23:41:32,778] Trial 66 finished with value: 0.0028575080476004 and parameters: {'kernel': 'linear', 'C': 56.90321796614347, 'epsilon': 0.01005696495913822, 'gamma': 'auto', 'coef0': 0.051712707864074094, 'shrinking': True, 'usar_pca': False}. Best is trial 66 with value: 0.0028575080476004.\n",
      "[I 2025-10-25 23:41:33,322] Trial 67 finished with value: 0.002946519902043704 and parameters: {'kernel': 'linear', 'C': 58.98889376716174, 'epsilon': 0.010226172591386225, 'gamma': 'auto', 'coef0': 0.04575407152960134, 'shrinking': True, 'usar_pca': False}. Best is trial 66 with value: 0.0028575080476004.\n",
      "[I 2025-10-25 23:41:33,956] Trial 68 finished with value: 0.006451727602817907 and parameters: {'kernel': 'linear', 'C': 56.512307913561735, 'epsilon': 0.02212187343666753, 'gamma': 'scale', 'coef0': 0.019586692743983364, 'shrinking': False, 'usar_pca': False}. Best is trial 66 with value: 0.0028575080476004.\n",
      "[I 2025-10-25 23:41:34,489] Trial 69 finished with value: 0.008267161213378234 and parameters: {'kernel': 'linear', 'C': 99.10646863989167, 'epsilon': 0.028386890102347268, 'gamma': 'auto', 'coef0': 0.05926430743124517, 'shrinking': True, 'usar_pca': True}. Best is trial 66 with value: 0.0028575080476004.\n",
      "[I 2025-10-25 23:41:34,997] Trial 70 finished with value: 0.011969911903142987 and parameters: {'kernel': 'linear', 'C': 51.398012313674535, 'epsilon': 0.04105003658069536, 'gamma': 'auto', 'coef0': 0.21906075518934257, 'shrinking': True, 'usar_pca': True}. Best is trial 66 with value: 0.0028575080476004.\n",
      "[I 2025-10-25 23:41:35,543] Trial 71 finished with value: 0.003590366074055526 and parameters: {'kernel': 'linear', 'C': 43.550184434180586, 'epsilon': 0.012543535598991814, 'gamma': 'scale', 'coef0': 0.11688595299190216, 'shrinking': True, 'usar_pca': False}. Best is trial 66 with value: 0.0028575080476004.\n",
      "[I 2025-10-25 23:41:36,272] Trial 72 finished with value: 0.009738254806499208 and parameters: {'kernel': 'linear', 'C': 38.232131355528246, 'epsilon': 0.03393332191034545, 'gamma': 'scale', 'coef0': 0.12082371137994147, 'shrinking': False, 'usar_pca': True}. Best is trial 66 with value: 0.0028575080476004.\n",
      "[I 2025-10-25 23:41:36,794] Trial 73 finished with value: 0.003633168953046626 and parameters: {'kernel': 'linear', 'C': 65.37087607941594, 'epsilon': 0.012585454114580872, 'gamma': 'scale', 'coef0': 0.056522679926636135, 'shrinking': True, 'usar_pca': False}. Best is trial 66 with value: 0.0028575080476004.\n",
      "[I 2025-10-25 23:41:37,289] Trial 74 finished with value: 0.003454962813912843 and parameters: {'kernel': 'linear', 'C': 75.09991941707791, 'epsilon': 0.01216079005405612, 'gamma': 'scale', 'coef0': 0.05567597025677904, 'shrinking': True, 'usar_pca': False}. Best is trial 66 with value: 0.0028575080476004.\n",
      "[I 2025-10-25 23:41:37,773] Trial 75 finished with value: 0.005483365990170986 and parameters: {'kernel': 'linear', 'C': 30.741967384530096, 'epsilon': 0.019161304605688045, 'gamma': 'scale', 'coef0': 0.18667164976259076, 'shrinking': True, 'usar_pca': False}. Best is trial 66 with value: 0.0028575080476004.\n",
      "[I 2025-10-25 23:41:38,367] Trial 76 finished with value: 0.002843765186314707 and parameters: {'kernel': 'linear', 'C': 98.4060322888323, 'epsilon': 0.010039007818614078, 'gamma': 'scale', 'coef0': 0.006460562236304514, 'shrinking': True, 'usar_pca': False}. Best is trial 76 with value: 0.002843765186314707.\n",
      "[I 2025-10-25 23:41:38,911] Trial 77 finished with value: 0.002953427614069936 and parameters: {'kernel': 'linear', 'C': 78.3917519473268, 'epsilon': 0.01021974921920852, 'gamma': 'scale', 'coef0': 0.0009189731569496165, 'shrinking': True, 'usar_pca': False}. Best is trial 76 with value: 0.002843765186314707.\n",
      "[I 2025-10-25 23:41:39,506] Trial 78 finished with value: 0.00299794826613214 and parameters: {'kernel': 'linear', 'C': 93.91224049423903, 'epsilon': 0.010514851760384235, 'gamma': 'scale', 'coef0': 0.0011352266001768592, 'shrinking': True, 'usar_pca': False}. Best is trial 76 with value: 0.002843765186314707.\n",
      "[I 2025-10-25 23:41:40,074] Trial 79 finished with value: 0.002878677809478665 and parameters: {'kernel': 'linear', 'C': 98.28808761663609, 'epsilon': 0.010055808090560945, 'gamma': 'scale', 'coef0': 0.8601648871458041, 'shrinking': True, 'usar_pca': False}. Best is trial 76 with value: 0.002843765186314707.\n",
      "[I 2025-10-25 23:41:40,588] Trial 80 finished with value: 0.005055338883784519 and parameters: {'kernel': 'linear', 'C': 27.08160828389561, 'epsilon': 0.017534564279322717, 'gamma': 'scale', 'coef0': 0.8361394003351859, 'shrinking': True, 'usar_pca': False}. Best is trial 76 with value: 0.002843765186314707.\n",
      "[I 2025-10-25 23:41:41,106] Trial 81 finished with value: 0.004313626100256263 and parameters: {'kernel': 'linear', 'C': 98.99557191485026, 'epsilon': 0.01508543350241517, 'gamma': 'scale', 'coef0': 0.689982659142394, 'shrinking': True, 'usar_pca': False}. Best is trial 76 with value: 0.002843765186314707.\n",
      "[I 2025-10-25 23:41:41,572] Trial 82 finished with value: 0.06847016002588843 and parameters: {'kernel': 'linear', 'C': 65.24276388182085, 'epsilon': 0.21607902052056, 'gamma': 'scale', 'coef0': 0.587562163095867, 'shrinking': False, 'usar_pca': False}. Best is trial 76 with value: 0.002843765186314707.\n",
      "[I 2025-10-25 23:41:42,121] Trial 83 finished with value: 0.0029839679620070904 and parameters: {'kernel': 'linear', 'C': 99.41188078326402, 'epsilon': 0.01043062122736229, 'gamma': 'scale', 'coef0': 0.9397847048277526, 'shrinking': True, 'usar_pca': False}. Best is trial 76 with value: 0.002843765186314707.\n",
      "[I 2025-10-25 23:41:42,689] Trial 84 finished with value: 0.0029349098801651164 and parameters: {'kernel': 'linear', 'C': 72.31752113208358, 'epsilon': 0.010160431035799153, 'gamma': 'scale', 'coef0': 0.9705759810084591, 'shrinking': True, 'usar_pca': False}. Best is trial 76 with value: 0.002843765186314707.\n",
      "[I 2025-10-25 23:41:43,222] Trial 85 finished with value: 0.002902130654568371 and parameters: {'kernel': 'linear', 'C': 45.059490929306314, 'epsilon': 0.010142311463205017, 'gamma': 'scale', 'coef0': 0.8979025942290993, 'shrinking': True, 'usar_pca': False}. Best is trial 76 with value: 0.002843765186314707.\n",
      "[I 2025-10-25 23:41:45,459] Trial 86 finished with value: 0.23829193668323745 and parameters: {'kernel': 'rbf', 'C': 43.07720360265576, 'epsilon': 0.02195533067849541, 'gamma': 'scale', 'coef0': 0.8961594749548919, 'shrinking': True, 'usar_pca': False}. Best is trial 76 with value: 0.002843765186314707.\n",
      "[I 2025-10-25 23:41:45,990] Trial 87 finished with value: 0.00454684386926042 and parameters: {'kernel': 'linear', 'C': 1.3614383228080165, 'epsilon': 0.015469184131324636, 'gamma': 'scale', 'coef0': 0.8343470625407273, 'shrinking': True, 'usar_pca': False}. Best is trial 76 with value: 0.002843765186314707.\n",
      "[I 2025-10-25 23:41:46,538] Trial 88 finished with value: 0.00368026874121144 and parameters: {'kernel': 'linear', 'C': 59.200431856082766, 'epsilon': 0.012974382227062651, 'gamma': 'scale', 'coef0': 0.9899187004025031, 'shrinking': True, 'usar_pca': False}. Best is trial 76 with value: 0.002843765186314707.\n",
      "[I 2025-10-25 23:41:47,087] Trial 89 finished with value: 0.003574301832531579 and parameters: {'kernel': 'linear', 'C': 4.4337827122899105, 'epsilon': 0.012466849754105842, 'gamma': 'scale', 'coef0': 0.837143309414193, 'shrinking': True, 'usar_pca': False}. Best is trial 76 with value: 0.002843765186314707.\n",
      "[I 2025-10-25 23:41:47,586] Trial 90 finished with value: 0.015493244617476401 and parameters: {'kernel': 'linear', 'C': 72.2275280402593, 'epsilon': 0.061294560531552196, 'gamma': 'scale', 'coef0': 0.891829359175757, 'shrinking': True, 'usar_pca': False}. Best is trial 76 with value: 0.002843765186314707.\n",
      "[I 2025-10-25 23:41:49,089] Trial 91 finished with value: 0.5562172431809926 and parameters: {'kernel': 'rbf', 'C': 0.36179633610467665, 'epsilon': 0.017454862651879146, 'gamma': 'scale', 'coef0': 0.7873597843086526, 'shrinking': True, 'usar_pca': False}. Best is trial 76 with value: 0.002843765186314707.\n",
      "[I 2025-10-25 23:41:49,518] Trial 92 finished with value: 0.3499379196737338 and parameters: {'kernel': 'linear', 'C': 25.64485678264079, 'epsilon': 0.7228075701143245, 'gamma': 'scale', 'coef0': 0.9163372404566142, 'shrinking': False, 'usar_pca': False}. Best is trial 76 with value: 0.002843765186314707.\n",
      "[I 2025-10-25 23:41:50,117] Trial 93 finished with value: 0.0029663476786208802 and parameters: {'kernel': 'linear', 'C': 75.95454636861389, 'epsilon': 0.010267729345092933, 'gamma': 'scale', 'coef0': 0.6888002766212921, 'shrinking': True, 'usar_pca': False}. Best is trial 76 with value: 0.002843765186314707.\n",
      "[I 2025-10-25 23:41:50,688] Trial 94 finished with value: 0.0028726786758332323 and parameters: {'kernel': 'linear', 'C': 47.79081943930722, 'epsilon': 0.010051323041599032, 'gamma': 'scale', 'coef0': 0.8624655534113141, 'shrinking': True, 'usar_pca': False}. Best is trial 76 with value: 0.002843765186314707.\n",
      "[I 2025-10-25 23:41:51,237] Trial 95 finished with value: 0.0034210927546869984 and parameters: {'kernel': 'linear', 'C': 38.83553192285664, 'epsilon': 0.011905039163465754, 'gamma': 'scale', 'coef0': 0.8713723729563749, 'shrinking': True, 'usar_pca': False}. Best is trial 76 with value: 0.002843765186314707.\n",
      "[I 2025-10-25 23:41:51,771] Trial 96 finished with value: 0.004374704362973951 and parameters: {'kernel': 'linear', 'C': 48.18261959952213, 'epsilon': 0.01489709542568548, 'gamma': 'scale', 'coef0': 0.7939197772090211, 'shrinking': True, 'usar_pca': False}. Best is trial 76 with value: 0.002843765186314707.\n",
      "[I 2025-10-25 23:41:52,320] Trial 97 finished with value: 0.003308551697102557 and parameters: {'kernel': 'linear', 'C': 19.08728302452074, 'epsilon': 0.011601316888639275, 'gamma': 'scale', 'coef0': 0.9547175543469137, 'shrinking': True, 'usar_pca': False}. Best is trial 76 with value: 0.002843765186314707.\n",
      "[I 2025-10-25 23:41:52,900] Trial 98 finished with value: 0.0055415357867647855 and parameters: {'kernel': 'linear', 'C': 34.063702265331294, 'epsilon': 0.01915355349396111, 'gamma': 'scale', 'coef0': 0.98583683547916, 'shrinking': True, 'usar_pca': False}. Best is trial 76 with value: 0.002843765186314707.\n",
      "[I 2025-10-25 23:41:53,443] Trial 99 finished with value: 0.006982339975490156 and parameters: {'kernel': 'linear', 'C': 60.55253437338127, 'epsilon': 0.023723824681355137, 'gamma': 'scale', 'coef0': 0.9255136748424388, 'shrinking': True, 'usar_pca': False}. Best is trial 76 with value: 0.002843765186314707.\n",
      "[I 2025-10-25 23:41:53,990] Trial 100 finished with value: 0.03218601996009733 and parameters: {'kernel': 'linear', 'C': 11.533675762680856, 'epsilon': 0.11135480375257362, 'gamma': 'scale', 'coef0': 0.7817541627046278, 'shrinking': True, 'usar_pca': False}. Best is trial 76 with value: 0.002843765186314707.\n",
      "[I 2025-10-25 23:41:57,778] Trial 101 finished with value: 0.2359457055478263 and parameters: {'kernel': 'rbf', 'C': 47.27974299499224, 'epsilon': 0.014079892215980105, 'gamma': 'scale', 'coef0': 0.8675719139229501, 'shrinking': True, 'usar_pca': False}. Best is trial 76 with value: 0.002843765186314707.\n",
      "[I 2025-10-25 23:41:58,319] Trial 102 finished with value: 0.004591449169951528 and parameters: {'kernel': 'linear', 'C': 27.76108266929525, 'epsilon': 0.015962384250347864, 'gamma': 'scale', 'coef0': 0.42560314873750055, 'shrinking': True, 'usar_pca': False}. Best is trial 76 with value: 0.002843765186314707.\n",
      "[I 2025-10-25 23:41:58,910] Trial 103 finished with value: 0.0029233470304988298 and parameters: {'kernel': 'linear', 'C': 85.40079704014839, 'epsilon': 0.01013696144750205, 'gamma': 'scale', 'coef0': 0.7418997380229779, 'shrinking': True, 'usar_pca': False}. Best is trial 76 with value: 0.002843765186314707.\n",
      "[I 2025-10-25 23:41:59,483] Trial 104 finished with value: 0.0033127533385363963 and parameters: {'kernel': 'linear', 'C': 84.00569146817085, 'epsilon': 0.011496741917426515, 'gamma': 'scale', 'coef0': 0.6409149349678022, 'shrinking': True, 'usar_pca': False}. Best is trial 76 with value: 0.002843765186314707.\n",
      "[I 2025-10-25 23:42:00,060] Trial 105 finished with value: 0.003358102730435031 and parameters: {'kernel': 'linear', 'C': 60.758126086123816, 'epsilon': 0.011642078724745685, 'gamma': 'scale', 'coef0': 0.7365776205364825, 'shrinking': True, 'usar_pca': False}. Best is trial 76 with value: 0.002843765186314707.\n",
      "[I 2025-10-25 23:42:00,654] Trial 106 finished with value: 0.002916601514575362 and parameters: {'kernel': 'linear', 'C': 81.39763816885984, 'epsilon': 0.010196493295261295, 'gamma': 'scale', 'coef0': 0.8673146426614741, 'shrinking': True, 'usar_pca': False}. Best is trial 76 with value: 0.002843765186314707.\n",
      "[I 2025-10-25 23:42:01,181] Trial 107 finished with value: 0.0041140403929065 and parameters: {'kernel': 'linear', 'C': 80.97722172116428, 'epsilon': 0.014273672005857385, 'gamma': 'scale', 'coef0': 0.9682129240126559, 'shrinking': True, 'usar_pca': False}. Best is trial 76 with value: 0.002843765186314707.\n",
      "[I 2025-10-25 23:42:02,173] Trial 108 finished with value: 0.0038884605597831272 and parameters: {'kernel': 'linear', 'C': 36.319565871487875, 'epsilon': 0.013357890582358709, 'gamma': 'scale', 'coef0': 0.8110875720302395, 'shrinking': True, 'usar_pca': False}. Best is trial 76 with value: 0.002843765186314707.\n",
      "[I 2025-10-25 23:42:02,792] Trial 109 finished with value: 0.0048775440797223 and parameters: {'kernel': 'linear', 'C': 69.86928109085771, 'epsilon': 0.016944151250218628, 'gamma': 'scale', 'coef0': 0.8740911959705603, 'shrinking': False, 'usar_pca': False}. Best is trial 76 with value: 0.002843765186314707.\n",
      "[I 2025-10-25 23:42:03,298] Trial 110 finished with value: 0.04421517986855491 and parameters: {'kernel': 'linear', 'C': 50.32686375178246, 'epsilon': 0.14796363574281315, 'gamma': 'scale', 'coef0': 0.9012235698439448, 'shrinking': True, 'usar_pca': False}. Best is trial 76 with value: 0.002843765186314707.\n",
      "[I 2025-10-25 23:42:03,888] Trial 111 finished with value: 0.0028927691733312325 and parameters: {'kernel': 'linear', 'C': 84.44359188940653, 'epsilon': 0.010124350116787969, 'gamma': 'scale', 'coef0': 0.7626692224905589, 'shrinking': True, 'usar_pca': False}. Best is trial 76 with value: 0.002843765186314707.\n",
      "[I 2025-10-25 23:42:04,531] Trial 112 finished with value: 0.0033776616286720572 and parameters: {'kernel': 'linear', 'C': 90.53707689646232, 'epsilon': 0.011717843097046127, 'gamma': 'scale', 'coef0': 0.7508445958967687, 'shrinking': True, 'usar_pca': False}. Best is trial 76 with value: 0.002843765186314707.\n",
      "[I 2025-10-25 23:42:05,085] Trial 113 finished with value: 0.0029812556421074258 and parameters: {'kernel': 'linear', 'C': 82.43610670926431, 'epsilon': 0.010327734102210327, 'gamma': 'scale', 'coef0': 0.6943829990920904, 'shrinking': True, 'usar_pca': False}. Best is trial 76 with value: 0.002843765186314707.\n",
      "[I 2025-10-25 23:42:05,702] Trial 114 finished with value: 0.003222079168386068 and parameters: {'kernel': 'linear', 'C': 43.39508272262432, 'epsilon': 0.011328917698966452, 'gamma': 'scale', 'coef0': 0.8499125452482194, 'shrinking': True, 'usar_pca': False}. Best is trial 76 with value: 0.002843765186314707.\n",
      "[I 2025-10-25 23:42:06,261] Trial 115 finished with value: 0.003974537558363987 and parameters: {'kernel': 'linear', 'C': 63.94799496519088, 'epsilon': 0.01387183757641029, 'gamma': 'scale', 'coef0': 0.813262229506987, 'shrinking': True, 'usar_pca': False}. Best is trial 76 with value: 0.002843765186314707.\n",
      "[I 2025-10-25 23:42:06,822] Trial 116 finished with value: 0.0029437114605742483 and parameters: {'kernel': 'linear', 'C': 51.7226679308109, 'epsilon': 0.01011396336428099, 'gamma': 'scale', 'coef0': 0.9346933897175497, 'shrinking': True, 'usar_pca': False}. Best is trial 76 with value: 0.002843765186314707.\n",
      "[I 2025-10-25 23:42:07,382] Trial 117 finished with value: 0.0036779917444307955 and parameters: {'kernel': 'linear', 'C': 71.85672583633506, 'epsilon': 0.012902525637178712, 'gamma': 'scale', 'coef0': 0.7664772088563873, 'shrinking': True, 'usar_pca': True}. Best is trial 76 with value: 0.002843765186314707.\n",
      "[I 2025-10-25 23:42:10,538] Trial 118 finished with value: 0.23647526098360694 and parameters: {'kernel': 'rbf', 'C': 98.80646849343765, 'epsilon': 0.01614708680525837, 'gamma': 'scale', 'coef0': 0.7235726570341218, 'shrinking': True, 'usar_pca': False}. Best is trial 76 with value: 0.002843765186314707.\n",
      "[I 2025-10-25 23:42:11,067] Trial 119 finished with value: 0.005786680572530321 and parameters: {'kernel': 'linear', 'C': 31.955807355583094, 'epsilon': 0.020190401825632698, 'gamma': 'scale', 'coef0': 0.6373847338639558, 'shrinking': True, 'usar_pca': False}. Best is trial 76 with value: 0.002843765186314707.\n",
      "[I 2025-10-25 23:42:15,355] Trial 120 finished with value: 0.015618408462282282 and parameters: {'kernel': 'poly', 'C': 83.68802562836999, 'epsilon': 0.010052559365450374, 'degree': 4, 'gamma': 'scale', 'coef0': 0.9999283260866598, 'shrinking': True, 'usar_pca': False}. Best is trial 76 with value: 0.002843765186314707.\n",
      "[I 2025-10-25 23:42:15,989] Trial 121 finished with value: 0.003352998427429052 and parameters: {'kernel': 'linear', 'C': 42.227524257119995, 'epsilon': 0.01170543450856852, 'gamma': 'scale', 'coef0': 0.8122868186093133, 'shrinking': False, 'usar_pca': False}. Best is trial 76 with value: 0.002843765186314707.\n",
      "[I 2025-10-25 23:42:16,492] Trial 122 finished with value: 0.159780562266494 and parameters: {'kernel': 'linear', 'C': 52.64971199091701, 'epsilon': 0.39005656732824445, 'gamma': 'scale', 'coef0': 0.4831013593849832, 'shrinking': True, 'usar_pca': False}. Best is trial 76 with value: 0.002843765186314707.\n",
      "[I 2025-10-25 23:42:17,074] Trial 123 finished with value: 0.0028545636023829322 and parameters: {'kernel': 'linear', 'C': 58.25795757528663, 'epsilon': 0.010087546295487668, 'gamma': 'scale', 'coef0': 0.9349800546781921, 'shrinking': True, 'usar_pca': False}. Best is trial 76 with value: 0.002843765186314707.\n",
      "[I 2025-10-25 23:42:17,682] Trial 124 finished with value: 0.0031834757231647597 and parameters: {'kernel': 'linear', 'C': 68.82523457656752, 'epsilon': 0.011124765645917278, 'gamma': 'scale', 'coef0': 0.961869957424312, 'shrinking': True, 'usar_pca': False}. Best is trial 76 with value: 0.002843765186314707.\n",
      "[I 2025-10-25 23:42:18,237] Trial 125 finished with value: 0.0036247973703741 and parameters: {'kernel': 'linear', 'C': 57.219923181030445, 'epsilon': 0.012721237410174883, 'gamma': 'scale', 'coef0': 0.9012842603754267, 'shrinking': True, 'usar_pca': False}. Best is trial 76 with value: 0.002843765186314707.\n",
      "[I 2025-10-25 23:42:18,771] Trial 126 finished with value: 0.0041204858298704026 and parameters: {'kernel': 'linear', 'C': 88.34391062129427, 'epsilon': 0.014358084183445094, 'gamma': 'scale', 'coef0': 0.8836533067491296, 'shrinking': True, 'usar_pca': False}. Best is trial 76 with value: 0.002843765186314707.\n",
      "[I 2025-10-25 23:42:19,333] Trial 127 finished with value: 0.0031715995011876636 and parameters: {'kernel': 'linear', 'C': 22.125424786787534, 'epsilon': 0.010980543979967628, 'gamma': 'scale', 'coef0': 0.8531947523026098, 'shrinking': True, 'usar_pca': False}. Best is trial 76 with value: 0.002843765186314707.\n",
      "[I 2025-10-25 23:42:19,854] Trial 128 finished with value: 0.005261731969009163 and parameters: {'kernel': 'linear', 'C': 0.10304568646791382, 'epsilon': 0.01822173712987302, 'gamma': 'scale', 'coef0': 0.9165369807482387, 'shrinking': True, 'usar_pca': True}. Best is trial 76 with value: 0.002843765186314707.\n",
      "[I 2025-10-25 23:42:20,401] Trial 129 finished with value: 0.0028918556111323843 and parameters: {'kernel': 'linear', 'C': 16.117068574879575, 'epsilon': 0.010031611186265707, 'gamma': 'scale', 'coef0': 0.9449274200867405, 'shrinking': True, 'usar_pca': False}. Best is trial 76 with value: 0.002843765186314707.\n",
      "[I 2025-10-25 23:42:20,955] Trial 130 finished with value: 0.0036744794135183307 and parameters: {'kernel': 'linear', 'C': 30.00923662912043, 'epsilon': 0.012916106786612423, 'gamma': 'auto', 'coef0': 0.9394623859002058, 'shrinking': True, 'usar_pca': False}. Best is trial 76 with value: 0.002843765186314707.\n",
      "[I 2025-10-25 23:42:21,492] Trial 131 finished with value: 0.004502775522472054 and parameters: {'kernel': 'linear', 'C': 38.68965165271665, 'epsilon': 0.015576823394035324, 'gamma': 'scale', 'coef0': 0.8545117656966664, 'shrinking': True, 'usar_pca': False}. Best is trial 76 with value: 0.002843765186314707.\n",
      "[I 2025-10-25 23:42:39,598] Trial 132 finished with value: 0.03605104123382995 and parameters: {'kernel': 'poly', 'C': 6.381097660029203, 'epsilon': 0.01138848474777274, 'degree': 5, 'gamma': 'scale', 'coef0': 0.9056432393454342, 'shrinking': True, 'usar_pca': False}. Best is trial 76 with value: 0.002843765186314707.\n",
      "[I 2025-10-25 23:42:40,211] Trial 133 finished with value: 0.002905404563378498 and parameters: {'kernel': 'linear', 'C': 16.75503105834522, 'epsilon': 0.01014217326146744, 'gamma': 'scale', 'coef0': 0.9789464389601804, 'shrinking': True, 'usar_pca': False}. Best is trial 76 with value: 0.002843765186314707.\n",
      "[I 2025-10-25 23:42:40,769] Trial 134 finished with value: 0.003538788608470932 and parameters: {'kernel': 'linear', 'C': 12.189752292168158, 'epsilon': 0.012351037308579432, 'gamma': 'scale', 'coef0': 0.9533513362284471, 'shrinking': True, 'usar_pca': False}. Best is trial 76 with value: 0.002843765186314707.\n",
      "[I 2025-10-25 23:42:41,303] Trial 135 finished with value: 0.0032145791658796394 and parameters: {'kernel': 'linear', 'C': 61.06010969733006, 'epsilon': 0.01110054164425353, 'gamma': 'scale', 'coef0': 0.539971639493669, 'shrinking': True, 'usar_pca': False}. Best is trial 76 with value: 0.002843765186314707.\n",
      "[I 2025-10-25 23:42:41,876] Trial 136 finished with value: 0.0028765373838006672 and parameters: {'kernel': 'linear', 'C': 14.654790399829173, 'epsilon': 0.010080071440200677, 'gamma': 'scale', 'coef0': 0.8298689576606466, 'shrinking': True, 'usar_pca': False}. Best is trial 76 with value: 0.002843765186314707.\n",
      "[I 2025-10-25 23:42:42,408] Trial 137 finished with value: 0.004076087211499164 and parameters: {'kernel': 'linear', 'C': 14.535446493253723, 'epsilon': 0.014208299243898884, 'gamma': 'scale', 'coef0': 0.8267536945360828, 'shrinking': True, 'usar_pca': False}. Best is trial 76 with value: 0.002843765186314707.\n",
      "[I 2025-10-25 23:42:42,920] Trial 138 finished with value: 0.003894366457370387 and parameters: {'kernel': 'linear', 'C': 17.866419272907105, 'epsilon': 0.013207312389472063, 'gamma': 'auto', 'coef0': 0.29279291379688127, 'shrinking': True, 'usar_pca': False}. Best is trial 76 with value: 0.002843765186314707.\n",
      "[I 2025-10-25 23:42:43,964] Trial 139 finished with value: 0.3908164980179889 and parameters: {'kernel': 'rbf', 'C': 1.7810715541079658, 'epsilon': 0.08090652887190279, 'gamma': 'scale', 'coef0': 0.8794950576213012, 'shrinking': True, 'usar_pca': False}. Best is trial 76 with value: 0.002843765186314707.\n",
      "[I 2025-10-25 23:42:44,669] Trial 140 finished with value: 0.003129466515037034 and parameters: {'kernel': 'linear', 'C': 4.1245597142523325, 'epsilon': 0.010943634936934482, 'gamma': 'scale', 'coef0': 0.980956091418635, 'shrinking': False, 'usar_pca': False}. Best is trial 76 with value: 0.002843765186314707.\n",
      "[I 2025-10-25 23:42:45,234] Trial 141 finished with value: 0.0034186868617895653 and parameters: {'kernel': 'linear', 'C': 9.336621346018088, 'epsilon': 0.01207197381730153, 'gamma': 'scale', 'coef0': 0.029960100939934915, 'shrinking': True, 'usar_pca': False}. Best is trial 76 with value: 0.002843765186314707.\n",
      "[I 2025-10-25 23:42:45,771] Trial 142 finished with value: 0.004501179978425053 and parameters: {'kernel': 'linear', 'C': 7.080801092418056, 'epsilon': 0.015649671605483497, 'gamma': 'scale', 'coef0': 0.3693190272165791, 'shrinking': True, 'usar_pca': True}. Best is trial 76 with value: 0.002843765186314707.\n",
      "[I 2025-10-25 23:42:46,352] Trial 143 finished with value: 0.002864790584625242 and parameters: {'kernel': 'linear', 'C': 11.33785315804378, 'epsilon': 0.010027227339864584, 'gamma': 'scale', 'coef0': 0.7730067777466313, 'shrinking': True, 'usar_pca': False}. Best is trial 76 with value: 0.002843765186314707.\n",
      "[I 2025-10-25 23:42:46,906] Trial 144 finished with value: 0.003150458810362173 and parameters: {'kernel': 'linear', 'C': 12.425832774132358, 'epsilon': 0.010950719646359436, 'gamma': 'scale', 'coef0': 0.9232344626483704, 'shrinking': True, 'usar_pca': False}. Best is trial 76 with value: 0.002843765186314707.\n",
      "[I 2025-10-25 23:42:47,499] Trial 145 finished with value: 0.002891072219564752 and parameters: {'kernel': 'linear', 'C': 17.677383391279584, 'epsilon': 0.010093340585111733, 'gamma': 'scale', 'coef0': 0.8013333057870848, 'shrinking': True, 'usar_pca': False}. Best is trial 76 with value: 0.002843765186314707.\n",
      "[I 2025-10-25 23:42:48,047] Trial 146 finished with value: 0.0028510464624634095 and parameters: {'kernel': 'linear', 'C': 16.744973932737494, 'epsilon': 0.010016372502624535, 'gamma': 'scale', 'coef0': 0.8093984945203556, 'shrinking': True, 'usar_pca': False}. Best is trial 76 with value: 0.002843765186314707.\n",
      "[I 2025-10-25 23:42:48,581] Trial 147 finished with value: 0.0035799490338440246 and parameters: {'kernel': 'linear', 'C': 10.700579145875682, 'epsilon': 0.012468555043049022, 'gamma': 'scale', 'coef0': 0.7791172773033865, 'shrinking': True, 'usar_pca': False}. Best is trial 76 with value: 0.002843765186314707.\n",
      "[I 2025-10-25 23:42:49,139] Trial 148 finished with value: 0.003934040691037249 and parameters: {'kernel': 'linear', 'C': 10.635292464919395, 'epsilon': 0.013608058815373084, 'gamma': 'auto', 'coef0': 0.0718650928146563, 'shrinking': True, 'usar_pca': False}. Best is trial 76 with value: 0.002843765186314707.\n",
      "[I 2025-10-25 23:42:49,686] Trial 149 finished with value: 0.0032338342455963203 and parameters: {'kernel': 'linear', 'C': 21.59298972742875, 'epsilon': 0.01123159233877515, 'gamma': 'scale', 'coef0': 0.8121518765163385, 'shrinking': True, 'usar_pca': False}. Best is trial 76 with value: 0.002843765186314707.\n",
      "[I 2025-10-25 23:42:50,250] Trial 150 finished with value: 0.0034590340542662197 and parameters: {'kernel': 'linear', 'C': 14.66023827844001, 'epsilon': 0.012047005139463727, 'gamma': 'scale', 'coef0': 0.79301449626948, 'shrinking': True, 'usar_pca': False}. Best is trial 76 with value: 0.002843765186314707.\n",
      "[I 2025-10-25 23:42:50,786] Trial 151 finished with value: 0.004289573067625037 and parameters: {'kernel': 'linear', 'C': 16.001474358281715, 'epsilon': 0.015019486748921432, 'gamma': 'scale', 'coef0': 0.7614076999290071, 'shrinking': True, 'usar_pca': False}. Best is trial 76 with value: 0.002843765186314707.\n",
      "[I 2025-10-25 23:42:51,405] Trial 152 finished with value: 0.002878596649526895 and parameters: {'kernel': 'linear', 'C': 22.70375392765245, 'epsilon': 0.010013540650333995, 'gamma': 'scale', 'coef0': 0.8331065896328217, 'shrinking': True, 'usar_pca': False}. Best is trial 76 with value: 0.002843765186314707.\n",
      "[I 2025-10-25 23:42:52,019] Trial 153 finished with value: 0.002863441196771067 and parameters: {'kernel': 'linear', 'C': 23.523350699416955, 'epsilon': 0.010000155556523385, 'gamma': 'scale', 'coef0': 0.8526465449773997, 'shrinking': True, 'usar_pca': False}. Best is trial 76 with value: 0.002843765186314707.\n"
     ]
    }
   ],
   "source": [
    "from optuna import create_study\n",
    "from optuna.samplers import TPESampler\n",
    "from optuna.pruners import HyperbandPruner\n",
    "\n",
    "NOME_DO_ESTUDO = \"svr_xtb_dataset_2\"\n",
    "NUM_FOLDS = 10\n",
    "NUM_TENTATIVAS = 300\n",
    "\n",
    "# Criar ou carregar estudo existente\n",
    "objeto_de_estudo = create_study(\n",
    "    direction=\"minimize\",\n",
    "    study_name=NOME_DO_ESTUDO,\n",
    "    storage=f\"sqlite:///{NOME_DO_ESTUDO}.db\",\n",
    "    load_if_exists=True,\n",
    "    sampler=TPESampler(seed=SEMENTE_ALEATORIA),\n",
    "    pruner=HyperbandPruner(min_resource=1, max_resource=10, reduction_factor=3) \n",
    ")\n",
    "\n",
    "# Forçar algumas combinações iniciais\n",
    "objeto_de_estudo.enqueue_trial({\"usar_pca\": False})\n",
    "objeto_de_estudo.enqueue_trial({\"usar_pca\": True})\n",
    "\n",
    "# Função-objetivo parcial\n",
    "def funcao_objetivo_parcial(trial):\n",
    "    return funcao_objetivo(trial, X_treino, y_treino, NUM_FOLDS)\n",
    "\n",
    "# Otimização\n",
    "objeto_de_estudo.optimize(funcao_objetivo_parcial, n_trials=NUM_TENTATIVAS)"
   ]
  },
  {
   "cell_type": "code",
   "execution_count": 10,
   "metadata": {},
   "outputs": [
    {
     "name": "stdout",
     "output_type": "stream",
     "text": [
      "Score médio: 0.0028\n",
      "Número do melhor trial: 76\n",
      "Parâmetros do melhor trial: {'kernel': 'linear', 'C': 98.4060322888323, 'epsilon': 0.010039007818614078, 'gamma': 'scale', 'coef0': 0.006460562236304514, 'shrinking': True, 'usar_pca': False}\n"
     ]
    }
   ],
   "source": [
    "melhor_trial = objeto_de_estudo.best_trial\n",
    "print(f\"Score médio: {melhor_trial.value:.4f}\")\n",
    "print(f\"Número do melhor trial: {melhor_trial.number}\")\n",
    "print(f\"Parâmetros do melhor trial: {melhor_trial.params}\")"
   ]
  },
  {
   "cell_type": "markdown",
   "metadata": {},
   "source": [
    "<a id='ref'></a>\n",
    "## Referências"
   ]
  },
  {
   "cell_type": "markdown",
   "metadata": {},
   "source": [
    "[1] **Livro**: RASCHKA, Sebastian; MIRJALILI, Vahid. *Python Machine Learning: Machine Learning and Deep Learning with Python, scikit-learn, and TensorFlow 2*. 3. ed. Packt, [s.d.].  \n",
    "\n",
    "[2] **Vídeo** do canal StatQuest with Josh Starmer - [Support Vector Machines Part 1 (of 3): Main Ideas!!!](https://youtu.be/efR1C6CvhmE?si=yfCtwqnRPt1FEO1O)\n",
    "\n",
    "[3] **Vídeo** do canal Hashtag Programação - [SVM (Support Vector Machine) - Algoritmos de Aprendizado de Máquinas](https://youtu.be/Y-WFZd9_gtE?si=5CMIM6krA9kQBNNy)\n",
    "\n",
    "[4] **Livro**: FACELI, Katti; LORENA, et al.. Inteligência artificial: uma abordagem de aprendizado de máquina. 2. ed. Rio de Janeiro: LTC, 2021. 400 p.\n",
    "\n",
    "[5] **Site** Wikipedia - [Teoria de Aprendizado Estatístico](https://en.wikipedia.org/wiki/Statistical_learning_theory)\n",
    "\n",
    "[6] **Documentação** do sklearn - [Support Vector Machines](https://scikit-learn.org/stable/modules/svm.html#svm)"
   ]
  },
  {
   "cell_type": "markdown",
   "metadata": {},
   "source": []
  }
 ],
 "metadata": {
  "kernelspec": {
   "display_name": ".venv",
   "language": "python",
   "name": "python3"
  },
  "language_info": {
   "codemirror_mode": {
    "name": "ipython",
    "version": 3
   },
   "file_extension": ".py",
   "mimetype": "text/x-python",
   "name": "python",
   "nbconvert_exporter": "python",
   "pygments_lexer": "ipython3",
   "version": "3.12.7"
  }
 },
 "nbformat": 4,
 "nbformat_minor": 2
}
